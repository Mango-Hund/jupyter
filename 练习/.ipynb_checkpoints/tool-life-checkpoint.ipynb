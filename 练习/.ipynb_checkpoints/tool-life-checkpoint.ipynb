{
 "cells": [
  {
   "cell_type": "markdown",
   "metadata": {},
   "source": [
    "导入相关python库"
   ]
  },
  {
   "cell_type": "code",
   "execution_count": 7,
   "metadata": {
    "ExecuteTime": {
     "end_time": "2020-08-19T12:41:51.750642Z",
     "start_time": "2020-08-19T12:41:51.734761Z"
    }
   },
   "outputs": [
    {
     "ename": "ModuleNotFoundError",
     "evalue": "No module named 'seaborn'",
     "output_type": "error",
     "traceback": [
      "\u001b[0;31m---------------------------------------------------------------------------\u001b[0m",
      "\u001b[0;31mModuleNotFoundError\u001b[0m                       Traceback (most recent call last)",
      "\u001b[0;32m<ipython-input-7-1ee4936987a7>\u001b[0m in \u001b[0;36m<module>\u001b[0;34m\u001b[0m\n\u001b[1;32m      4\u001b[0m \u001b[0;32mfrom\u001b[0m \u001b[0mpandas\u001b[0m \u001b[0;32mimport\u001b[0m \u001b[0mDataFrame\u001b[0m\u001b[0;34m,\u001b[0m\u001b[0mSeries\u001b[0m\u001b[0;34m\u001b[0m\u001b[0;34m\u001b[0m\u001b[0m\n\u001b[1;32m      5\u001b[0m \u001b[0;32mfrom\u001b[0m \u001b[0msklearn\u001b[0m\u001b[0;34m.\u001b[0m\u001b[0mlinear_model\u001b[0m \u001b[0;32mimport\u001b[0m \u001b[0mLinearRegression\u001b[0m\u001b[0;34m\u001b[0m\u001b[0;34m\u001b[0m\u001b[0m\n\u001b[0;32m----> 6\u001b[0;31m \u001b[0;32mimport\u001b[0m \u001b[0mseaborn\u001b[0m \u001b[0;32mas\u001b[0m \u001b[0msns\u001b[0m\u001b[0;34m\u001b[0m\u001b[0;34m\u001b[0m\u001b[0m\n\u001b[0m",
      "\u001b[0;31mModuleNotFoundError\u001b[0m: No module named 'seaborn'"
     ]
    }
   ],
   "source": [
    "import pandas as pd\n",
    "import numpy as np\n",
    "import matplotlib.pyplot as plt\n",
    "from pandas import DataFrame,Series\n",
    "from sklearn.linear_model import LinearRegression\n",
    "import seaborn as sns"
   ]
  },
  {
   "cell_type": "code",
   "execution_count": 3,
   "metadata": {
    "ExecuteTime": {
     "end_time": "2020-08-19T12:41:20.629993Z",
     "start_time": "2020-08-19T12:41:20.598894Z"
    },
    "_cell_guid": "79c7e3d0-c299-4dcb-8224-4455121ee9b0",
    "_uuid": "d629ff2d2480ee46fbb7e2d37f6b5fab8052498a"
   },
   "outputs": [],
   "source": [
    "df = {'Cutting speed':[197,182,164,150,132,124,90,78,115,106],'Cutting depth':[1,2,2,4,4,5,8,12,6,8],'Cutting width':[40,60,80,80,100,120,200,220,120,140],'Tool diameter':[60,80,100,120,140,160,250,300,180,200],\n",
    "           'Tool life':[80,90,105,120,135,155,290,290,170,200]}\n",
    "df = pd.DataFrame(df)"
   ]
  },
  {
   "cell_type": "code",
   "execution_count": 4,
   "metadata": {
    "ExecuteTime": {
     "end_time": "2020-08-19T12:41:22.287549Z",
     "start_time": "2020-08-19T12:41:22.213423Z"
    }
   },
   "outputs": [
    {
     "data": {
      "text/html": [
       "<div>\n",
       "<style scoped>\n",
       "    .dataframe tbody tr th:only-of-type {\n",
       "        vertical-align: middle;\n",
       "    }\n",
       "\n",
       "    .dataframe tbody tr th {\n",
       "        vertical-align: top;\n",
       "    }\n",
       "\n",
       "    .dataframe thead th {\n",
       "        text-align: right;\n",
       "    }\n",
       "</style>\n",
       "<table border=\"1\" class=\"dataframe\">\n",
       "  <thead>\n",
       "    <tr style=\"text-align: right;\">\n",
       "      <th></th>\n",
       "      <th>Cutting speed</th>\n",
       "      <th>Cutting depth</th>\n",
       "      <th>Cutting width</th>\n",
       "      <th>Tool diameter</th>\n",
       "      <th>Tool life</th>\n",
       "    </tr>\n",
       "  </thead>\n",
       "  <tbody>\n",
       "    <tr>\n",
       "      <th>0</th>\n",
       "      <td>197</td>\n",
       "      <td>1</td>\n",
       "      <td>40</td>\n",
       "      <td>60</td>\n",
       "      <td>80</td>\n",
       "    </tr>\n",
       "    <tr>\n",
       "      <th>1</th>\n",
       "      <td>182</td>\n",
       "      <td>2</td>\n",
       "      <td>60</td>\n",
       "      <td>80</td>\n",
       "      <td>90</td>\n",
       "    </tr>\n",
       "    <tr>\n",
       "      <th>2</th>\n",
       "      <td>164</td>\n",
       "      <td>2</td>\n",
       "      <td>80</td>\n",
       "      <td>100</td>\n",
       "      <td>105</td>\n",
       "    </tr>\n",
       "    <tr>\n",
       "      <th>3</th>\n",
       "      <td>150</td>\n",
       "      <td>4</td>\n",
       "      <td>80</td>\n",
       "      <td>120</td>\n",
       "      <td>120</td>\n",
       "    </tr>\n",
       "    <tr>\n",
       "      <th>4</th>\n",
       "      <td>132</td>\n",
       "      <td>4</td>\n",
       "      <td>100</td>\n",
       "      <td>140</td>\n",
       "      <td>135</td>\n",
       "    </tr>\n",
       "    <tr>\n",
       "      <th>5</th>\n",
       "      <td>124</td>\n",
       "      <td>5</td>\n",
       "      <td>120</td>\n",
       "      <td>160</td>\n",
       "      <td>155</td>\n",
       "    </tr>\n",
       "    <tr>\n",
       "      <th>6</th>\n",
       "      <td>90</td>\n",
       "      <td>8</td>\n",
       "      <td>200</td>\n",
       "      <td>250</td>\n",
       "      <td>290</td>\n",
       "    </tr>\n",
       "    <tr>\n",
       "      <th>7</th>\n",
       "      <td>78</td>\n",
       "      <td>12</td>\n",
       "      <td>220</td>\n",
       "      <td>300</td>\n",
       "      <td>290</td>\n",
       "    </tr>\n",
       "    <tr>\n",
       "      <th>8</th>\n",
       "      <td>115</td>\n",
       "      <td>6</td>\n",
       "      <td>120</td>\n",
       "      <td>180</td>\n",
       "      <td>170</td>\n",
       "    </tr>\n",
       "    <tr>\n",
       "      <th>9</th>\n",
       "      <td>106</td>\n",
       "      <td>8</td>\n",
       "      <td>140</td>\n",
       "      <td>200</td>\n",
       "      <td>200</td>\n",
       "    </tr>\n",
       "  </tbody>\n",
       "</table>\n",
       "</div>"
      ],
      "text/plain": [
       "   Cutting speed  Cutting depth  Cutting width  Tool diameter  Tool life\n",
       "0            197              1             40             60         80\n",
       "1            182              2             60             80         90\n",
       "2            164              2             80            100        105\n",
       "3            150              4             80            120        120\n",
       "4            132              4            100            140        135\n",
       "5            124              5            120            160        155\n",
       "6             90              8            200            250        290\n",
       "7             78             12            220            300        290\n",
       "8            115              6            120            180        170\n",
       "9            106              8            140            200        200"
      ]
     },
     "execution_count": 4,
     "metadata": {},
     "output_type": "execute_result"
    }
   ],
   "source": [
    "df"
   ]
  },
  {
   "cell_type": "code",
   "execution_count": 5,
   "metadata": {
    "ExecuteTime": {
     "end_time": "2020-08-19T12:41:26.467467Z",
     "start_time": "2020-08-19T12:41:26.373364Z"
    }
   },
   "outputs": [
    {
     "name": "stdout",
     "output_type": "stream",
     "text": [
      "       Cutting speed  Cutting depth  Cutting width  Tool diameter  Tool life\n",
      "count      10.000000      10.000000      10.000000      10.000000   10.00000\n",
      "mean      133.800000       5.200000     116.000000     159.000000  163.50000\n",
      "std        39.086229       3.392803      57.965507      75.784783   75.97697\n",
      "min        78.000000       1.000000      40.000000      60.000000   80.00000\n",
      "25%       108.250000       2.500000      80.000000     105.000000  108.75000\n",
      "50%       128.000000       4.500000     110.000000     150.000000  145.00000\n",
      "75%       160.500000       7.500000     135.000000     195.000000  192.50000\n",
      "max       197.000000      12.000000     220.000000     300.000000  290.00000\n",
      "               Cutting speed  Cutting depth  Cutting width  Tool diameter  \\\n",
      "Cutting speed       1.000000      -0.943941      -0.951798      -0.969344   \n",
      "Cutting depth      -0.943941       1.000000       0.953678       0.981805   \n",
      "Cutting width      -0.951798       0.953678       1.000000       0.990486   \n",
      "Tool diameter      -0.969344       0.981805       0.990486       1.000000   \n",
      "Tool life          -0.931384       0.940959       0.989999       0.979042   \n",
      "\n",
      "               Tool life  \n",
      "Cutting speed  -0.931384  \n",
      "Cutting depth   0.940959  \n",
      "Cutting width   0.989999  \n",
      "Tool diameter   0.979042  \n",
      "Tool life       1.000000  \n"
     ]
    }
   ],
   "source": [
    "print(df.describe())\n",
    "print(df.corr())  #相关系数0~0.3弱相关0.3~0.6中等程度相关0.6~1强相关"
   ]
  },
  {
   "cell_type": "markdown",
   "metadata": {},
   "source": [
    "可以从corr表中看出，各特征量和刀具寿命是有比较强的正相关或负相关的"
   ]
  },
  {
   "cell_type": "code",
   "execution_count": 6,
   "metadata": {
    "ExecuteTime": {
     "end_time": "2020-08-19T12:41:33.762038Z",
     "start_time": "2020-08-19T12:41:33.750386Z"
    }
   },
   "outputs": [
    {
     "ename": "NameError",
     "evalue": "name 'sns' is not defined",
     "output_type": "error",
     "traceback": [
      "\u001b[0;31m---------------------------------------------------------------------------\u001b[0m",
      "\u001b[0;31mNameError\u001b[0m                                 Traceback (most recent call last)",
      "\u001b[0;32m<ipython-input-6-971b4965be15>\u001b[0m in \u001b[0;36m<module>\u001b[0;34m\u001b[0m\n\u001b[0;32m----> 1\u001b[0;31m \u001b[0msns\u001b[0m\u001b[0;34m.\u001b[0m\u001b[0mpairplot\u001b[0m\u001b[0;34m(\u001b[0m\u001b[0mdf\u001b[0m\u001b[0;34m,\u001b[0m \u001b[0mx_vars\u001b[0m\u001b[0;34m=\u001b[0m\u001b[0;34m[\u001b[0m\u001b[0;34m'Cutting speed'\u001b[0m\u001b[0;34m,\u001b[0m\u001b[0;34m'Cutting depth'\u001b[0m\u001b[0;34m,\u001b[0m\u001b[0;34m'Cutting width'\u001b[0m\u001b[0;34m,\u001b[0m\u001b[0;34m'Tool diameter'\u001b[0m\u001b[0;34m]\u001b[0m\u001b[0;34m,\u001b[0m \u001b[0my_vars\u001b[0m\u001b[0;34m=\u001b[0m\u001b[0;34m'Tool life'\u001b[0m\u001b[0;34m,\u001b[0m \u001b[0mheight\u001b[0m\u001b[0;34m=\u001b[0m\u001b[0;36m7\u001b[0m\u001b[0;34m,\u001b[0m \u001b[0maspect\u001b[0m\u001b[0;34m=\u001b[0m\u001b[0;36m0.8\u001b[0m\u001b[0;34m,\u001b[0m\u001b[0mkind\u001b[0m \u001b[0;34m=\u001b[0m \u001b[0;34m'reg'\u001b[0m\u001b[0;34m)\u001b[0m\u001b[0;34m\u001b[0m\u001b[0;34m\u001b[0m\u001b[0m\n\u001b[0m\u001b[1;32m      2\u001b[0m \u001b[0mplt\u001b[0m\u001b[0;34m.\u001b[0m\u001b[0mshow\u001b[0m\u001b[0;34m(\u001b[0m\u001b[0;34m)\u001b[0m \u001b[0;31m#通过加入一个参数kind='reg'，seaborn可以添加一条最佳拟合直线和95%的置信带。\u001b[0m\u001b[0;34m\u001b[0m\u001b[0;34m\u001b[0m\u001b[0m\n",
      "\u001b[0;31mNameError\u001b[0m: name 'sns' is not defined"
     ]
    }
   ],
   "source": [
    "sns.pairplot(df, x_vars=['Cutting speed','Cutting depth','Cutting width','Tool diameter'], y_vars='Tool life', height=7, aspect=0.8,kind = 'reg')\n",
    "plt.show() #通过加入一个参数kind='reg'，seaborn可以添加一条最佳拟合直线和95%的置信带。"
   ]
  },
  {
   "cell_type": "markdown",
   "metadata": {},
   "source": [
    "我们可以看到这四个变量都与刀具寿命有着明显的线性关系"
   ]
  },
  {
   "cell_type": "code",
   "execution_count": 33,
   "metadata": {},
   "outputs": [
    {
     "name": "stdout",
     "output_type": "stream",
     "text": [
      "   Cutting speed  Cutting depth  Cutting width  Tool diameter\n",
      "0            197              1             40             60\n",
      "1            182              2             60             80\n",
      "2            164              2             80            100\n",
      "3            150              4             80            120\n",
      "4            132              4            100            140\n",
      "5            124              5            120            160\n",
      "6             90              8            200            250\n",
      "7             78             12            220            300\n",
      "8            115              6            120            180\n",
      "9            106              8            140            200\n",
      "0     80\n",
      "1     90\n",
      "2    105\n",
      "3    120\n",
      "4    135\n",
      "5    155\n",
      "6    290\n",
      "7    290\n",
      "8    170\n",
      "9    200\n",
      "Name: Tool life, dtype: int64\n",
      "最佳拟合线：截距 -83.87443491743224 回归系数： [ 0.41112092 -4.55901377  1.01655815  0.61731184]\n"
     ]
    }
   ],
   "source": [
    "X = df.iloc[:,0:4]\n",
    "y = df.iloc[:,4]\n",
    "model = LinearRegression()\n",
    "model.fit(X,y)\n",
    "a = model.intercept_ #截距\n",
    "b = model.coef_ #回归系数\n",
    "print(\"最佳拟合线：截距\",a,\"回归系数：\",b)"
   ]
  },
  {
   "cell_type": "code",
   "execution_count": null,
   "metadata": {
    "ExecuteTime": {
     "start_time": "2020-08-19T12:42:26.262Z"
    }
   },
   "outputs": [],
   "source": [
    "pip install seaborn"
   ]
  },
  {
   "cell_type": "code",
   "execution_count": null,
   "metadata": {},
   "outputs": [],
   "source": []
  }
 ],
 "metadata": {
  "kernelspec": {
   "display_name": "Python 3",
   "language": "python",
   "name": "python3"
  },
  "language_info": {
   "codemirror_mode": {
    "name": "ipython",
    "version": 3
   },
   "file_extension": ".py",
   "mimetype": "text/x-python",
   "name": "python",
   "nbconvert_exporter": "python",
   "pygments_lexer": "ipython3",
   "version": "3.7.7"
  }
 },
 "nbformat": 4,
 "nbformat_minor": 4
}
