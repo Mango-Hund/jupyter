{
 "cells": [
  {
   "cell_type": "markdown",
   "metadata": {},
   "source": [
    "# 决策树\n"
   ]
  },
  {
   "cell_type": "markdown",
   "metadata": {},
   "source": [
    "## 决策树的构造\n",
    "原理：你是否玩过海龟汤的游戏，游戏的规则很简单：参与游戏的一方在脑海里想某个事物，其他参与者向他提问题，只允许提20个问题，问题的答案也只能用错或者对来回答。问问题的人通过推断分解，逐步缩小待猜测事物的范围。决策树的工作原理与海龟汤游戏相似，用户输入一系列数据，然后给出游戏的答案。  \n",
    "优点：计算复杂度不高，输出结果利于理解，对中间值的缺失不敏感，可以处理不相关特征数据。  \n",
    "缺点：可能会产生过度匹配的问题。  \n",
    "适用数据类型：数值型和标称型  "
   ]
  },
  {
   "cell_type": "markdown",
   "metadata": {},
   "source": [
    "如何划分数据子集的算法与划分原始数据集的方法相同，直到所有具有相同类型的数据均在一个数据子集内。  \n",
    "创建分支的伪代码函数creareBranch*():  \n",
    "If so return 类标签;    \n",
    "Else    \n",
    "      寻找划分数据集的最好特征    \n",
    "      划分数据集  \n",
    "      创建分支节点  \n",
    "         for 每个划分的子集  \n",
    "              调用函数creareBranch并增加返回结果到分支节点中  \n",
    "      return 分支节点    \n",
    "上面的伪代码是一个递归函数，在倒数第二行直接调用了自己。后面我们将把上面的伪代码转化为Python代码，这里我们需要进一步去了解算法是如何划分数据集的。    \n",
    "决策树的一般流程：  \n",
    "1. 收集数据： 可以使用任何方法。\n",
    "2. 准备数据： 树构造算法只适用于标称型数据，因此数值型数据必须离散化。\n",
    "3. 分析数据： 可以使用任何方法，构建树完成之后，我们应该检查图形是否符合预期。\n",
    "4. 训练算法： 构造树的数据结构。\n",
    "5. 测试算法： 使用经验树来计算错误率。\n",
    "6. 使用算法： 此步骤可以适用于任何监督学习算法，而使用决策树可以更好地理解数据的内在含义。"
   ]
  },
  {
   "cell_type": "markdown",
   "metadata": {},
   "source": [
    "### 信息增益\n",
    "划分数据集的大原则是：将无序的数据变得更加有序。在划分数据集之前之后发生的变化称为信息增益。知道如何计算信息增益，我们就可以计算每个特征值划分数据集获得的信息增益，获得信息增益最高的特征就是最好的选择。集合信息的度量方式成为香农熵或者简称为熵。"
   ]
  },
  {
   "cell_type": "markdown",
   "metadata": {},
   "source": [
    "熵表示随机变量不确定性的度量。设X是一个取有限个值的随机离散变量，其概率分布为：  \n",
    "$$P(X=x_i)=p_i \\quad i =1,2,3...n$$\n",
    "其中$p(x_i)$是选择该分类的概率。  \n",
    "为了计算熵，我们需要计算所有类别所有可能值包含的信息期望值，通过下面的公式得到：\n",
    "$$H=-\\sum\\limits_{i=1}^np(x_i)log_2p(x_i)$$\n",
    "其中n是分类的数目。  "
   ]
  },
  {
   "cell_type": "code",
   "execution_count": 10,
   "metadata": {
    "ExecuteTime": {
     "end_time": "2020-07-27T05:59:19.541264Z",
     "start_time": "2020-07-27T05:59:19.536348Z"
    }
   },
   "outputs": [],
   "source": [
    "from math import log\n",
    "import operator\n",
    "def calcShannonEnt(dataSet):\n",
    "    numEntries = len(dataSet)       #返回数据集的行数\n",
    "    labelCounts = {}                 #保存每个标签（Label）出现次数的字典\n",
    "    for feaVec in dataSet:          #对每组特征量进行统计\n",
    "        currentLabel = feaVec[-1]    #提取标签（Label）的信息\n",
    "        if currentLabel not in labelCounts.keys():  #如果标签没有放入统计次数的字典，添加进去\n",
    "            labelCounts[currentLabel] = 0          \n",
    "        labelCounts[currentLabel] +=1           #Label计数\n",
    "    shannonEnt = 0.0                           #经验熵\n",
    "    for key in labelCounts:                        #选择该标签的概率\n",
    "        prob = float(labelCounts[key])/numEntries  #利用公式计算\n",
    "        shannonEnt -= prob * log(prob,2)\n",
    "    return shannonEnt                        #返回香农熵"
   ]
  },
  {
   "cell_type": "markdown",
   "metadata": {},
   "source": [
    "我们可以输入自己的creatDataSet()函数："
   ]
  },
  {
   "cell_type": "code",
   "execution_count": 87,
   "metadata": {
    "ExecuteTime": {
     "end_time": "2020-07-27T07:25:34.841938Z",
     "start_time": "2020-07-27T07:25:34.838149Z"
    }
   },
   "outputs": [],
   "source": [
    "def createDataSet():\n",
    "    dataSet = [[1,1,'yes'],[1,1,'yes'],[1,0,'no'],[0,1,'no'],[0,1,'no']]\n",
    "    labels = ['no surfacing','flippers']\n",
    "    return dataSet,labels"
   ]
  },
  {
   "cell_type": "code",
   "execution_count": 88,
   "metadata": {
    "ExecuteTime": {
     "end_time": "2020-07-27T07:25:35.264494Z",
     "start_time": "2020-07-27T07:25:35.255027Z"
    }
   },
   "outputs": [
    {
     "data": {
      "text/plain": [
       "[[1, 1, 'yes'], [1, 1, 'yes'], [1, 0, 'no'], [0, 1, 'no'], [0, 1, 'no']]"
      ]
     },
     "execution_count": 88,
     "metadata": {},
     "output_type": "execute_result"
    }
   ],
   "source": [
    "myDat,labels = createDataSet()\n",
    "myDat"
   ]
  },
  {
   "cell_type": "code",
   "execution_count": 89,
   "metadata": {
    "ExecuteTime": {
     "end_time": "2020-07-27T07:25:35.724458Z",
     "start_time": "2020-07-27T07:25:35.718775Z"
    }
   },
   "outputs": [
    {
     "data": {
      "text/plain": [
       "0.9709505944546686"
      ]
     },
     "execution_count": 89,
     "metadata": {},
     "output_type": "execute_result"
    }
   ],
   "source": [
    "calcShannonEnt(myDat)"
   ]
  },
  {
   "cell_type": "code",
   "execution_count": 90,
   "metadata": {
    "ExecuteTime": {
     "end_time": "2020-07-27T07:25:36.173644Z",
     "start_time": "2020-07-27T07:25:36.170092Z"
    }
   },
   "outputs": [],
   "source": [
    "myDat[0][-1] = 'maybe'"
   ]
  },
  {
   "cell_type": "code",
   "execution_count": 91,
   "metadata": {
    "ExecuteTime": {
     "end_time": "2020-07-27T07:25:36.533067Z",
     "start_time": "2020-07-27T07:25:36.528963Z"
    }
   },
   "outputs": [
    {
     "data": {
      "text/plain": [
       "[[1, 1, 'maybe'], [1, 1, 'yes'], [1, 0, 'no'], [0, 1, 'no'], [0, 1, 'no']]"
      ]
     },
     "execution_count": 91,
     "metadata": {},
     "output_type": "execute_result"
    }
   ],
   "source": [
    "myDat"
   ]
  },
  {
   "cell_type": "code",
   "execution_count": 92,
   "metadata": {
    "ExecuteTime": {
     "end_time": "2020-07-27T07:25:36.780967Z",
     "start_time": "2020-07-27T07:25:36.774351Z"
    }
   },
   "outputs": [
    {
     "data": {
      "text/plain": [
       "1.3709505944546687"
      ]
     },
     "execution_count": 92,
     "metadata": {},
     "output_type": "execute_result"
    }
   ],
   "source": [
    "calcShannonEnt(myDat)"
   ]
  },
  {
   "cell_type": "markdown",
   "metadata": {},
   "source": [
    "熵越高，则混合的函数也越多，分类越多，熵也就越高。"
   ]
  },
  {
   "cell_type": "markdown",
   "metadata": {},
   "source": [
    "### 划分数据集\n",
    "对每一个特征划分数据集的结果计算一次信息熵，然后判断按照哪个特征划分数据集是最好的划分方式。  \n",
    "按照给定特征划分数据集："
   ]
  },
  {
   "cell_type": "code",
   "execution_count": 93,
   "metadata": {
    "ExecuteTime": {
     "end_time": "2020-07-27T07:25:37.324160Z",
     "start_time": "2020-07-27T07:25:37.320237Z"
    }
   },
   "outputs": [],
   "source": [
    "def splitDataSet(dataSet, axis, value): #待划分的数据集、划分数据集的特征、需要返回的特征的值\n",
    "    retDataSet = [] #python在函数中传递的是列表引用，不能直接去修改原始的数据集，所以需要创建一个新的列表对象   \n",
    "    for featVec in dataSet:     #在数据集里抽取符合特征的数据\n",
    "        if featVec[axis] == value:               \n",
    "            reducedFeatVec = featVec[:axis]             \n",
    "            reducedFeatVec.extend(featVec[axis+1:]) #extend() 函数用于在列表末尾一次性追加另一个序列中的多个值（用新列表扩展原来的列表）\n",
    "            retDataSet.append(reducedFeatVec)\n",
    "    return retDataSet"
   ]
  },
  {
   "cell_type": "code",
   "execution_count": 94,
   "metadata": {
    "ExecuteTime": {
     "end_time": "2020-07-27T07:25:37.500832Z",
     "start_time": "2020-07-27T07:25:37.498183Z"
    }
   },
   "outputs": [],
   "source": [
    "myDat,labels = createDataSet()"
   ]
  },
  {
   "cell_type": "code",
   "execution_count": 95,
   "metadata": {
    "ExecuteTime": {
     "end_time": "2020-07-27T07:25:37.682850Z",
     "start_time": "2020-07-27T07:25:37.678903Z"
    }
   },
   "outputs": [
    {
     "data": {
      "text/plain": [
       "[[1, 1, 'yes'], [1, 1, 'yes'], [1, 0, 'no'], [0, 1, 'no'], [0, 1, 'no']]"
      ]
     },
     "execution_count": 95,
     "metadata": {},
     "output_type": "execute_result"
    }
   ],
   "source": [
    "myDat"
   ]
  },
  {
   "cell_type": "code",
   "execution_count": 96,
   "metadata": {
    "ExecuteTime": {
     "end_time": "2020-07-27T07:25:37.881542Z",
     "start_time": "2020-07-27T07:25:37.874598Z"
    }
   },
   "outputs": [
    {
     "data": {
      "text/plain": [
       "[[1, 'yes'], [1, 'yes'], [0, 'no']]"
      ]
     },
     "execution_count": 96,
     "metadata": {},
     "output_type": "execute_result"
    }
   ],
   "source": [
    "splitDataSet(myDat,0,1)"
   ]
  },
  {
   "cell_type": "code",
   "execution_count": 97,
   "metadata": {
    "ExecuteTime": {
     "end_time": "2020-07-27T07:25:38.084067Z",
     "start_time": "2020-07-27T07:25:38.079881Z"
    }
   },
   "outputs": [
    {
     "data": {
      "text/plain": [
       "[[1, 'no'], [1, 'no']]"
      ]
     },
     "execution_count": 97,
     "metadata": {},
     "output_type": "execute_result"
    }
   ],
   "source": [
    "splitDataSet(myDat,0,0)"
   ]
  },
  {
   "cell_type": "code",
   "execution_count": 98,
   "metadata": {
    "ExecuteTime": {
     "end_time": "2020-07-27T07:25:38.270253Z",
     "start_time": "2020-07-27T07:25:38.263000Z"
    }
   },
   "outputs": [
    {
     "data": {
      "text/plain": [
       "[[1, 1], [1, 1]]"
      ]
     },
     "execution_count": 98,
     "metadata": {},
     "output_type": "execute_result"
    }
   ],
   "source": [
    "splitDataSet(myDat,2,'yes')"
   ]
  },
  {
   "cell_type": "markdown",
   "metadata": {},
   "source": [
    "接下来将遍历整个数据集，循环计算香农熵和splitDataSet（）函数，找到最好的特征划分方式。熵计算会告诉我们如何划分数据集是最好的数据组织方式。  \n",
    "特征A对训练集D的信息增益g(D,A)，定义为集合D的经验熵H(D)与特征A给定条件下D的经验条件熵H(D|A)之差。\n",
    "$$g(D,A)=H(D)-H(D|A)$$\n",
    "经验熵H(D)表示对数据集D分类的不确定性。而经验熵H(D|A)表示在特征A给定条件下对数据集D分类的不确定性。根据信息增益准则的特征选择方法是：对训练集D，计算其每个特征的信息增益，并比较他们的大小，选择信息增益最大的特征。  \n",
    "设训练数据集为D，|D|表示其样本容量，即样本个数。设有K个类$C_k，K=1,2,3,4...K$，$\\mid C_k\\mid $为属于类$C_k$的样本个数，$\\sum\\limits^K_{k=1}\\mid  C_k\\mid =\\mid  D\\mid $。设特征A有n个不同的取值$\\{a_1,a_2,...a_n\\}$,根据特征A的取值将D划分为n个子集$D_1,D_2,...,D_n$，$\\mid  D_i \\mid $为$D_i$的样本个数，$\\sum\\limits_{i=1}^n\\mid  D_i\\mid =\\mid  D\\mid $。记子集$D_i$中属于类$C_k$的样本集合为$D_{ik}$,$\\mid  D_{ik}\\mid $为$D_{ik}$的样本个数。于是信息增益的算法为：  \n",
    "输入：训练数据集D和特征A；\n",
    "输出：特征A对训练数据集D的信息增益g(D,A)  \n",
    "1. 计算数据集D的经验熵H(D)\n",
    "$$H(D)=-\\sum_{k=1}^K\\frac{\\mid  C_k\\mid }{\\mid  D\\mid }log_2\\frac{\\mid  C_k\\mid }{\\mid  D\\mid }$$\n",
    "2. 计算特征A对数据集D的经验条件熵H(D|A)\n",
    "$$H(D|A)=\\sum_{i=1}^n\\frac{\\mid  D_i\\mid }{\\mid D\\mid }H(D_i)=-\\sum_{i=1}^n\\frac{\\mid  D_i\\mid }{\\mid  D\\mid }\\sum_{k=1}^K\\frac{\\mid  D_{ki}\\mid }{\\mid  D_i\\mid }log_2\\frac{\\mid  D_{ik}\\mid }{\\mid  D_i\\mid }$$\n",
    "3. 计算信息增益\n",
    "$$g(D,A)=H(D)-H(D|A)$$"
   ]
  },
  {
   "cell_type": "code",
   "execution_count": 99,
   "metadata": {
    "ExecuteTime": {
     "end_time": "2020-07-27T07:25:38.687905Z",
     "start_time": "2020-07-27T07:25:38.682157Z"
    }
   },
   "outputs": [],
   "source": [
    "def chooseBestFeatureToSplit(dataSet):\n",
    "    numFeatures = len(dataSet[0]) -1\n",
    "    baseEntropy = calcShannonEnt(dataSet)   #计算数据集的经验熵\n",
    "    bestInfoGain = 0.0; bestFeature = -1\n",
    "    for i in range(numFeatures):\n",
    "        featList = [example[i] for example in dataSet] \n",
    "        #将dataSet中的数据先按行依次放入example中，然后取得example中的example[i]元素，放入列表featList中\n",
    "        #对数据的遍历一般都是按行，这是取其列的方法\n",
    "        uniqueVals = set(featList) #set() 函数创建一个无序不重复元素集，可进行关系测试，删除重复数据，还可以计算交集、差集、并集等                    \n",
    "        newEntropy = 0.0\n",
    "        for value in uniqueVals:\n",
    "            subDataSet = splitDataSet(dataSet, i, value) #划分数据集\n",
    "            prob = len(subDataSet)/float(len(dataSet))  #计算D_i/D\n",
    "            newEntropy += prob*calcShannonEnt(subDataSet) #计算特征A对训练数据集的经验条件熵\n",
    "        infoGain = baseEntropy - newEntropy  #计算信息增益\n",
    "        if (infoGain > bestInfoGain):\n",
    "            bestInfoGain = infoGain       #选出最大值\n",
    "            bestFeature = i\n",
    "    return bestFeature "
   ]
  },
  {
   "cell_type": "code",
   "execution_count": 100,
   "metadata": {
    "ExecuteTime": {
     "end_time": "2020-07-27T07:25:38.917748Z",
     "start_time": "2020-07-27T07:25:38.913151Z"
    }
   },
   "outputs": [
    {
     "data": {
      "text/plain": [
       "0"
      ]
     },
     "execution_count": 100,
     "metadata": {},
     "output_type": "execute_result"
    }
   ],
   "source": [
    "chooseBestFeatureToSplit(myDat)"
   ]
  },
  {
   "cell_type": "code",
   "execution_count": 101,
   "metadata": {
    "ExecuteTime": {
     "end_time": "2020-07-27T07:25:39.226853Z",
     "start_time": "2020-07-27T07:25:39.218952Z"
    }
   },
   "outputs": [
    {
     "data": {
      "text/plain": [
       "[[1, 1, 'yes'], [1, 1, 'yes'], [1, 0, 'no'], [0, 1, 'no'], [0, 1, 'no']]"
      ]
     },
     "execution_count": 101,
     "metadata": {},
     "output_type": "execute_result"
    }
   ],
   "source": [
    "myDat"
   ]
  },
  {
   "cell_type": "markdown",
   "metadata": {},
   "source": [
    "### 递归构建决策树\n",
    "得到原始数据集，然后基于最好的属性值划分数据集，由于特征值可能多于两个，因此可能存在大于两个分支的数据集划分。第一次划分之后，数据将被向下传递到树分支的下一个节点，在这个节点上，我们可以再次划分数据。因此我们可以采用递归的原则处理数据集。  \n",
    "递归结束的条件是：程序遍历完所有划分数据集的属性，或者每个分之下的所有实例都具有相同的分类。如果所有实例具有相同的分类，则得到一个叶子节点或者终止块。任何到达叶子节点的数据必然属于叶子节点的分类。  "
   ]
  },
  {
   "cell_type": "code",
   "execution_count": 102,
   "metadata": {
    "ExecuteTime": {
     "end_time": "2020-07-27T07:25:40.351790Z",
     "start_time": "2020-07-27T07:25:40.344453Z"
    }
   },
   "outputs": [],
   "source": [
    "def majorityCnt(classList):\n",
    "    classCount = {}\n",
    "    for vote in classList:\n",
    "        if vote not in classCount.key():classCount[vote] = 0 #如果字典中不含该标签的键，就新建标签键值并初始化为0\n",
    "        classCount[vote] += 1\n",
    "    sortedClassCount = sorted(classCount.iterms(), key = operator.itemgetter(1), reverse = True)\n",
    "        #将items返回的可遍历键值对数组，根据键值对的第二个域(值)，进行降序排列\n",
    "    return sortedClassCount[0][0] "
   ]
  },
  {
   "cell_type": "markdown",
   "metadata": {},
   "source": [
    "该函数使用分类名称的列表，然后创建键值为classList中唯一值的数据字典，字典对象存储了classList中每个类标签出现的频率，最后利用operator操作键值排序字典，并返回出现次数最多的分类名称。  \n",
    "创建树的函数代码："
   ]
  },
  {
   "cell_type": "code",
   "execution_count": 156,
   "metadata": {
    "ExecuteTime": {
     "end_time": "2020-07-27T08:40:46.446840Z",
     "start_time": "2020-07-27T08:40:46.440852Z"
    }
   },
   "outputs": [],
   "source": [
    "def createTree(dataSet,labels):\n",
    "    classList = [example[-1] for example in dataSet]\n",
    "    if classList.count(classList[0]) == len(classList):\n",
    "        #Python count() 方法用于统计字符串里某个字符出现的次数。可选参数为在字符串搜索的开始与结束位置。\n",
    "        return classList[0]\n",
    "        #递归函数的第一个停止条件是所有的类标签完全相同，则直接返回该类标签。\n",
    "    if len(dataSet[0]) == 1:  #dataset中只剩下一列类别\n",
    "        return majorityCnt(classList)  #遍历完所有特征时返回出现次数最多的\n",
    "        #递归函数第二个停止条件是使用完了所有的特征，仍然不能将数据集划分成仅包含唯一类别的分组。\n",
    "    bestFeat = chooseBestFeatureToSplit(dataSet) #计算出划分数据集的最优特征\n",
    "    bestFeatLabel = labels[bestFeat]  #该特征属性作为节点的名字\n",
    "    myTree = {bestFeatLabel:{}} #建立最优特征属性值为空\n",
    "    del(labels[bestFeat])    #从标签中删除已经划分好的特征\n",
    "    featValues = [example[bestFeat] for example in dataSet]\n",
    "    uniqueVals = set(featValues)\n",
    "    for value in uniqueVals:\n",
    "        subLabels = labels[:]    #得到列表包含的属性值\n",
    "        myTree[bestFeatLabel][value] = createTree(splitDataSet(dataSet, bestFeat, value), subLabels)\n",
    "    return myTree"
   ]
  },
  {
   "cell_type": "code",
   "execution_count": 144,
   "metadata": {
    "ExecuteTime": {
     "end_time": "2020-07-27T08:24:52.278725Z",
     "start_time": "2020-07-27T08:24:52.273087Z"
    }
   },
   "outputs": [],
   "source": [
    "myDat,labels = createDataSet()"
   ]
  },
  {
   "cell_type": "code",
   "execution_count": 145,
   "metadata": {
    "ExecuteTime": {
     "end_time": "2020-07-27T08:24:52.500233Z",
     "start_time": "2020-07-27T08:24:52.496958Z"
    }
   },
   "outputs": [
    {
     "data": {
      "text/plain": [
       "['no surfacing', 'flippers']"
      ]
     },
     "execution_count": 145,
     "metadata": {},
     "output_type": "execute_result"
    }
   ],
   "source": [
    "labels"
   ]
  },
  {
   "cell_type": "code",
   "execution_count": 146,
   "metadata": {
    "ExecuteTime": {
     "end_time": "2020-07-27T08:24:52.764544Z",
     "start_time": "2020-07-27T08:24:52.757999Z"
    }
   },
   "outputs": [
    {
     "data": {
      "text/plain": [
       "[[1, 1, 'yes'], [1, 1, 'yes'], [1, 0, 'no'], [0, 1, 'no'], [0, 1, 'no']]"
      ]
     },
     "execution_count": 146,
     "metadata": {},
     "output_type": "execute_result"
    }
   ],
   "source": [
    "myDat"
   ]
  },
  {
   "cell_type": "code",
   "execution_count": 147,
   "metadata": {
    "ExecuteTime": {
     "end_time": "2020-07-27T08:24:53.087613Z",
     "start_time": "2020-07-27T08:24:53.085232Z"
    }
   },
   "outputs": [],
   "source": [
    "myTree = createTree(myDat,labels)"
   ]
  },
  {
   "cell_type": "code",
   "execution_count": 148,
   "metadata": {
    "ExecuteTime": {
     "end_time": "2020-07-27T08:24:54.080178Z",
     "start_time": "2020-07-27T08:24:54.076412Z"
    }
   },
   "outputs": [
    {
     "data": {
      "text/plain": [
       "{'no surfacing': {0: 'no', 1: {'flippers': {0: 'no', 1: 'yes'}}}}"
      ]
     },
     "execution_count": 148,
     "metadata": {},
     "output_type": "execute_result"
    }
   ],
   "source": [
    "myTree"
   ]
  },
  {
   "cell_type": "markdown",
   "metadata": {},
   "source": [
    "## 在Python中使用Matplotlib注解绘制树形图"
   ]
  },
  {
   "cell_type": "markdown",
   "metadata": {},
   "source": [
    "使用文本注解绘制树节点"
   ]
  },
  {
   "cell_type": "code",
   "execution_count": 225,
   "metadata": {
    "ExecuteTime": {
     "end_time": "2020-07-27T09:07:43.277806Z",
     "start_time": "2020-07-27T09:07:43.270415Z"
    }
   },
   "outputs": [],
   "source": [
    "import matplotlib.pyplot as plt\n",
    "decisionNode = dict(boxstyle = \"sawtooth\", fc = \"0.8\")\n",
    "leafNode = dict(boxstyle = \"round4\", fc=\"0.8\")\n",
    "arrow_args = dict(arrowstyle=\"<-\")\n",
    "\n",
    "def plotNode(nodeTxt, centerPt, parentPt, nodeType):\n",
    "    createPlot.ax1.annotate(nodeTxt, xy = parentPt, xycoords = 'axes fraction', xytext = centerPt, \\\n",
    "    textcoords = 'axes fraction',va = \"center\", ha = \"center\", bbox = nodeType, arrowprops = arrow_args)\n",
    "\n",
    "def createPlot(inTree):\n",
    "    fig = plt.figure(1, facecolor='white')\n",
    "    fig.clf()\n",
    "    axprops = dict(xticks=[], yticks=[])\n",
    "    createPlot.ax1 = plt.subplot(111, frameon=False, **axprops)    #no ticks\n",
    "    #createPlot.ax1 = plt.subplot(111, frameon=False) #ticks for demo puropses \n",
    "    plotTree.totalW = float(getNumLeafs(inTree))\n",
    "    plotTree.totalD = float(getTreeDepth(inTree))\n",
    "    plotTree.xOff = -0.5/plotTree.totalW; plotTree.yOff = 1.0;\n",
    "    plotTree(inTree, (0.5,1.0), '')\n",
    "    plt.show()"
   ]
  },
  {
   "cell_type": "code",
   "execution_count": 226,
   "metadata": {
    "ExecuteTime": {
     "end_time": "2020-07-27T09:07:44.645143Z",
     "start_time": "2020-07-27T09:07:44.642716Z"
    }
   },
   "outputs": [],
   "source": [
    "import treePlotter"
   ]
  },
  {
   "cell_type": "code",
   "execution_count": 231,
   "metadata": {
    "ExecuteTime": {
     "end_time": "2020-07-27T09:08:35.767739Z",
     "start_time": "2020-07-27T09:08:35.494891Z"
    }
   },
   "outputs": [
    {
     "data": {
      "image/png": "[encoded data removed]",
      "text/plain": [
       "<Figure size 432x288 with 1 Axes>"
      ]
     },
     "metadata": {},
     "output_type": "display_data"
    }
   ],
   "source": [
    "createPlot(myTree)"
   ]
  },
  {
   "cell_type": "markdown",
   "metadata": {},
   "source": [
    "### 构造注解树\n",
    "获取叶节点的数目和树的层数"
   ]
  },
  {
   "cell_type": "code",
   "execution_count": 232,
   "metadata": {
    "ExecuteTime": {
     "end_time": "2020-07-27T09:08:36.697176Z",
     "start_time": "2020-07-27T09:08:36.691119Z"
    }
   },
   "outputs": [],
   "source": [
    "def getNumLeafs(myTree):\n",
    "    numLeafs = 0\n",
    "    firstStr = list(myTree.keys())[0]\n",
    "    secondDict = myTree[firstStr]\n",
    "    for key in secondDict.keys():\n",
    "        if type(secondDict[key]).__name__=='dict':\n",
    "            numLeafs += getNumLeafs(secondDict [key])\n",
    "        else: numLeafs +=1\n",
    "    return numLeafs\n",
    "def getTreeDepth(myTree):\n",
    "    maxDepth = 0\n",
    "    firstStr = list(myTree.keys())[0]\n",
    "    secondDict = myTree[firstStr]\n",
    "    for key in secondDict.keys():\n",
    "        if type(secondDict[key]).__name__=='dict':\n",
    "            thisDepth =  1 + getTreeDepth(secondDict[key])\n",
    "        else: thisDepth = 1\n",
    "        if thisDepth > maxDepth: maxDepth = thisDepth\n",
    "    return maxDepth"
   ]
  },
  {
   "cell_type": "code",
   "execution_count": 233,
   "metadata": {
    "ExecuteTime": {
     "end_time": "2020-07-27T09:08:37.135820Z",
     "start_time": "2020-07-27T09:08:37.128003Z"
    }
   },
   "outputs": [
    {
     "data": {
      "text/plain": [
       "4"
      ]
     },
     "execution_count": 233,
     "metadata": {},
     "output_type": "execute_result"
    }
   ],
   "source": [
    "getNumLeafs(myTree)"
   ]
  },
  {
   "cell_type": "code",
   "execution_count": 234,
   "metadata": {
    "ExecuteTime": {
     "end_time": "2020-07-27T09:08:37.572031Z",
     "start_time": "2020-07-27T09:08:37.565783Z"
    }
   },
   "outputs": [
    {
     "data": {
      "text/plain": [
       "2"
      ]
     },
     "execution_count": 234,
     "metadata": {},
     "output_type": "execute_result"
    }
   ],
   "source": [
    "getTreeDepth(myTree)"
   ]
  },
  {
   "cell_type": "markdown",
   "metadata": {},
   "source": [
    "绘制完整的树"
   ]
  },
  {
   "cell_type": "code",
   "execution_count": 235,
   "metadata": {
    "ExecuteTime": {
     "end_time": "2020-07-27T09:08:39.100987Z",
     "start_time": "2020-07-27T09:08:39.000364Z"
    }
   },
   "outputs": [],
   "source": [
    "def plotMidText(cntrPt, parentPt, txtString):\n",
    "    xMid = (parentPt[0]-cntrPt[0])/2.0 + cntrPt[0]\n",
    "    yMid = (parentPt[1]-cntrPt[1])/2.0 + cntrPt[1]\n",
    "    createPlot.ax1.text(xMid, yMid, txtString, va=\"center\", ha=\"center\", rotation=30)\n",
    "def plotTree(myTree, parentPt, nodeTxt):#if the first key tells you what feat was split on\n",
    "    numLeafs = getNumLeafs(myTree)  #this determines the x width of this tree\n",
    "    depth = getTreeDepth(myTree)\n",
    "    firstStr = list(myTree.keys())[0]     #the text label for this node should be this\n",
    "    cntrPt = (plotTree.xOff + (1.0 + float(numLeafs))/2.0/plotTree.totalW, plotTree.yOff)\n",
    "    plotMidText(cntrPt, parentPt, nodeTxt)\n",
    "    plotNode(firstStr, cntrPt, parentPt, decisionNode)\n",
    "    secondDict = myTree[firstStr]\n",
    "    plotTree.yOff = plotTree.yOff - 1.0/plotTree.totalD\n",
    "    for key in secondDict.keys():\n",
    "        if type(secondDict[key]).__name__=='dict':#test to see if the nodes are dictonaires, if not they are leaf nodes   \n",
    "            plotTree(secondDict[key],cntrPt,str(key))        #recursion\n",
    "        else:   #it's a leaf node print the leaf node\n",
    "            plotTree.xOff = plotTree.xOff + 1.0/plotTree.totalW\n",
    "            plotNode(secondDict[key], (plotTree.xOff, plotTree.yOff), cntrPt, leafNode)\n",
    "            plotMidText((plotTree.xOff, plotTree.yOff), cntrPt, str(key))\n",
    "    plotTree.yOff = plotTree.yOff + 1.0/plotTree.totalD\n",
    "#if you do get a dictonary you know it's a tree, and the first element will be another dict"
   ]
  },
  {
   "cell_type": "code",
   "execution_count": 236,
   "metadata": {
    "ExecuteTime": {
     "end_time": "2020-07-27T09:08:39.584582Z",
     "start_time": "2020-07-27T09:08:39.580457Z"
    }
   },
   "outputs": [],
   "source": [
    "def retrieveTree(i):\n",
    "    listOfTrees =[{'no surfacing': {0: 'no', 1: {'flippers': {0: 'no', 1: 'yes'}}}},\n",
    "                  {'no surfacing': {0: 'no', 1: {'flippers': {0: {'head': {0: 'no', 1: 'yes'}}, 1: 'no'}}}}\n",
    "                  ]\n",
    "    return listOfTrees[i]"
   ]
  },
  {
   "cell_type": "code",
   "execution_count": 242,
   "metadata": {
    "ExecuteTime": {
     "end_time": "2020-07-27T09:09:05.853545Z",
     "start_time": "2020-07-27T09:09:05.850835Z"
    }
   },
   "outputs": [],
   "source": [
    "myTree = treePlotter.retrieveTree(0)"
   ]
  },
  {
   "cell_type": "code",
   "execution_count": 243,
   "metadata": {
    "ExecuteTime": {
     "end_time": "2020-07-27T09:09:14.376976Z",
     "start_time": "2020-07-27T09:09:14.084559Z"
    }
   },
   "outputs": [
    {
     "data": {
      "image/png": "[encoded data removed]",
      "text/plain": [
       "<Figure size 432x288 with 1 Axes>"
      ]
     },
     "metadata": {},
     "output_type": "display_data"
    }
   ],
   "source": [
    "createPlot(myTree)"
   ]
  },
  {
   "cell_type": "code",
   "execution_count": 244,
   "metadata": {
    "ExecuteTime": {
     "end_time": "2020-07-27T09:09:22.006049Z",
     "start_time": "2020-07-27T09:09:22.002953Z"
    }
   },
   "outputs": [],
   "source": [
    "myTree['no surfacing'][3]='maybe'"
   ]
  },
  {
   "cell_type": "code",
   "execution_count": 245,
   "metadata": {
    "ExecuteTime": {
     "end_time": "2020-07-27T09:09:23.223169Z",
     "start_time": "2020-07-27T09:09:23.219010Z"
    }
   },
   "outputs": [
    {
     "data": {
      "text/plain": [
       "{'no surfacing': {0: 'no', 1: {'flippers': {0: 'no', 1: 'yes'}}, 3: 'maybe'}}"
      ]
     },
     "execution_count": 245,
     "metadata": {},
     "output_type": "execute_result"
    }
   ],
   "source": [
    "myTree"
   ]
  },
  {
   "cell_type": "code",
   "execution_count": 247,
   "metadata": {
    "ExecuteTime": {
     "end_time": "2020-07-27T09:09:32.097013Z",
     "start_time": "2020-07-27T09:09:31.820947Z"
    }
   },
   "outputs": [
    {
     "data": {
      "image/png": "[encoded data removed]",
      "text/plain": [
       "<Figure size 432x288 with 1 Axes>"
      ]
     },
     "metadata": {},
     "output_type": "display_data"
    }
   ],
   "source": [
    "createPlot(myTree)"
   ]
  },
  {
   "cell_type": "markdown",
   "metadata": {},
   "source": [
    "## 测试和存储分类器"
   ]
  },
  {
   "cell_type": "markdown",
   "metadata": {},
   "source": [
    "### 测试算法：使用决策树执行分类\n",
    "依靠训练数据构造了决策树之后，我们可以将它用于实际数据的分类。在执行数据分类时，需要决策树以及用于构造树的标签向量。然后，程序比较测试数据与决策树上的数值，递归执行该过程直到进入叶子节点；最后将测试数据定义为叶子节点所属的类型。  "
   ]
  },
  {
   "cell_type": "code",
   "execution_count": 253,
   "metadata": {
    "ExecuteTime": {
     "end_time": "2020-07-27T12:35:07.262812Z",
     "start_time": "2020-07-27T12:35:07.257234Z"
    }
   },
   "outputs": [],
   "source": [
    "def classify(inputTree, featLabels, testVec):\n",
    "    firstStr = list(inputTree.keys())[0]   #，找到输入的第一个元素，即第一个节点\n",
    "    secondDict = inputTree[firstStr]    \n",
    "    featIndex = featLabels.index(firstStr) #如果包含子字符串返回开始的索引值，否则抛出异常\n",
    "    for key in secondDict.keys():           \n",
    "        if testVec[featIndex] == key:\n",
    "            if type(secondDict[key]).__name__=='dict': #type(a).__name__ == 'dict' :可判断a的类型是否类型为dict\n",
    "                classLabel = classify(secondDict[key], featLabels, testVec)\n",
    "            else:  classLabel = secondDict[key]\n",
    "    return classLabel"
   ]
  },
  {
   "cell_type": "markdown",
   "metadata": {},
   "source": [
    "在存储带有特征的数据会面临一个问题：程序无法确定特征在数据集中的位置，例如前面例子的第一个用于划分数据集的特征是no surfacing属性，但是在实际数据集中该属性存储在哪个位置？是一个属性还是第二个属性？特征标签列表将帮助程序处理这个问题。使用index方法查找当前列表中第一个匹配firstStr变量的元素。然后代码递归遍历整棵树，比较textVec变量中的值与树节点的值，如果到达叶子节点，则返回当前节点的分类标签。  "
   ]
  },
  {
   "cell_type": "code",
   "execution_count": 254,
   "metadata": {
    "ExecuteTime": {
     "end_time": "2020-07-27T12:35:09.205055Z",
     "start_time": "2020-07-27T12:35:09.202521Z"
    }
   },
   "outputs": [],
   "source": [
    "mydat,labels=createDataSet()"
   ]
  },
  {
   "cell_type": "code",
   "execution_count": 255,
   "metadata": {
    "ExecuteTime": {
     "end_time": "2020-07-27T12:35:09.958847Z",
     "start_time": "2020-07-27T12:35:09.955422Z"
    }
   },
   "outputs": [
    {
     "data": {
      "text/plain": [
       "['no surfacing', 'flippers']"
      ]
     },
     "execution_count": 255,
     "metadata": {},
     "output_type": "execute_result"
    }
   ],
   "source": [
    "labels"
   ]
  },
  {
   "cell_type": "code",
   "execution_count": 256,
   "metadata": {
    "ExecuteTime": {
     "end_time": "2020-07-27T12:35:10.614321Z",
     "start_time": "2020-07-27T12:35:10.610646Z"
    }
   },
   "outputs": [
    {
     "data": {
      "text/plain": [
       "{'no surfacing': {0: 'no', 1: {'flippers': {0: 'no', 1: 'yes'}}, 3: 'maybe'}}"
      ]
     },
     "execution_count": 256,
     "metadata": {},
     "output_type": "execute_result"
    }
   ],
   "source": [
    "myTree"
   ]
  },
  {
   "cell_type": "code",
   "execution_count": 257,
   "metadata": {
    "ExecuteTime": {
     "end_time": "2020-07-27T12:35:11.622780Z",
     "start_time": "2020-07-27T12:35:11.619000Z"
    }
   },
   "outputs": [
    {
     "data": {
      "text/plain": [
       "'no'"
      ]
     },
     "execution_count": 257,
     "metadata": {},
     "output_type": "execute_result"
    }
   ],
   "source": [
    "classify(myTree, labels, [1,0])"
   ]
  },
  {
   "cell_type": "code",
   "execution_count": 258,
   "metadata": {
    "ExecuteTime": {
     "end_time": "2020-07-27T12:36:15.498793Z",
     "start_time": "2020-07-27T12:36:15.494070Z"
    }
   },
   "outputs": [
    {
     "data": {
      "text/plain": [
       "'yes'"
      ]
     },
     "execution_count": 258,
     "metadata": {},
     "output_type": "execute_result"
    }
   ],
   "source": [
    "classify(myTree, labels, [1,1])"
   ]
  },
  {
   "cell_type": "markdown",
   "metadata": {},
   "source": [
    "### 使用算法：决策树的存储\n",
    "为了节省计算时间，最好能够在每次执行分类时调用已经构造好的决策树。需要使用Python模块序列化对象。序列化对象可以在磁盘上保存对象，并在需要的时候读取出来。任何对象都可以执行序列化操作，字典对象也不例外。  "
   ]
  },
  {
   "cell_type": "code",
   "execution_count": 262,
   "metadata": {
    "ExecuteTime": {
     "end_time": "2020-07-27T12:46:25.328686Z",
     "start_time": "2020-07-27T12:46:25.322288Z"
    }
   },
   "outputs": [],
   "source": [
    "def storeTree(inputTree,filename):\n",
    "    import pickle\n",
    "    fw = open(filename, 'w')\n",
    "    pickle.dump(inputTree,fw)\n",
    "    fw.close()\n",
    "def grabTree(filename):\n",
    "    import pickle\n",
    "    fr = open(filename)\n",
    "    return pickle.load(fr)"
   ]
  },
  {
   "cell_type": "markdown",
   "metadata": {},
   "source": []
  }
 ],
 "metadata": {
  "kernelspec": {
   "display_name": "Python 3",
   "language": "python",
   "name": "python3"
  },
  "language_info": {
   "codemirror_mode": {
    "name": "ipython",
    "version": 3
   },
   "file_extension": ".py",
   "mimetype": "text/x-python",
   "name": "python",
   "nbconvert_exporter": "python",
   "pygments_lexer": "ipython3",
   "version": "3.7.7"
  }
 },
 "nbformat": 4,
 "nbformat_minor": 2
}
