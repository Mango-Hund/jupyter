{
 "cells": [
  {
   "cell_type": "code",
   "execution_count": 1,
   "metadata": {
    "ExecuteTime": {
     "end_time": "2020-10-16T06:23:20.574532Z",
     "start_time": "2020-10-16T06:23:16.901306Z"
    }
   },
   "outputs": [],
   "source": [
    "import warnings\n",
    "warnings.filterwarnings('ignore')\n",
    "import imghdr  # 判断图片格式用的\n",
    "import random\n",
    "import seaborn as sns\n",
    "from time import time\n",
    "import paddle.fluid as fluid\n",
    "import paddle\n",
    "import numpy as np\n",
    "from PIL import Image\n",
    "import os\n",
    "from multiprocessing import cpu_count\n",
    "import matplotlib.pyplot as plt"
   ]
  },
  {
   "cell_type": "code",
   "execution_count": 2,
   "metadata": {
    "ExecuteTime": {
     "end_time": "2020-10-16T06:23:23.541996Z",
     "start_time": "2020-10-16T06:23:23.538696Z"
    }
   },
   "outputs": [],
   "source": [
    "crop_size = 300       # 剪切尺寸，最后图片的size是这个值，不是resize_size\n",
    "resize_size = 320\n",
    "is_color = True       # 是否加载彩色图\n",
    "USE_GPU = True        # 是否使用GPU\n",
    "BUF_SIZE = 528        \n",
    "BATCH_SIZE = 128      # 每批次图片数量\n",
    "EPOCH = 20 "
   ]
  },
  {
   "cell_type": "markdown",
   "metadata": {},
   "source": [
    "## 数据预处理"
   ]
  },
  {
   "cell_type": "code",
   "execution_count": 3,
   "metadata": {
    "ExecuteTime": {
     "end_time": "2020-10-16T06:23:24.806018Z",
     "start_time": "2020-10-16T06:23:24.802157Z"
    }
   },
   "outputs": [],
   "source": [
    "def get_filename(filetype):\n",
    "    name =[]\n",
    "    final_name_list = []\n",
    "    for root,dirs,files in os.walk('/home/liu/Documents/data/dogs-vs-cats-redux-kernels-edition/train'):\n",
    "        for i in files:\n",
    "            if filetype in i:\n",
    "                name.append(i.replace(filetype,''))\n",
    "    final_name_list = [filetype + item  for item in name]\n",
    "    return final_name_list #返回由文件名组成的列表"
   ]
  },
  {
   "cell_type": "code",
   "execution_count": 4,
   "metadata": {
    "ExecuteTime": {
     "end_time": "2020-10-16T06:23:26.005617Z",
     "start_time": "2020-10-16T06:23:25.938783Z"
    }
   },
   "outputs": [],
   "source": [
    "cat_name_list = get_filename('cat')\n",
    "dog_name_list = get_filename('dog')"
   ]
  },
  {
   "cell_type": "code",
   "execution_count": 5,
   "metadata": {
    "ExecuteTime": {
     "end_time": "2020-10-16T06:23:26.597805Z",
     "start_time": "2020-10-16T06:23:26.594412Z"
    }
   },
   "outputs": [],
   "source": [
    "def cope_file(name_list,old_path,new_path):\n",
    "    for file_name in name_list:\n",
    "        shutil.copyfile(os.path.join(old_path,file_name),os.path.join(new_path,file_name))#路径拼接要用os.path.join，复制指定文件到另一个文件夹里"
   ]
  },
  {
   "cell_type": "code",
   "execution_count": 6,
   "metadata": {
    "ExecuteTime": {
     "end_time": "2020-10-16T06:23:27.717393Z",
     "start_time": "2020-10-16T06:23:27.714588Z"
    }
   },
   "outputs": [],
   "source": [
    "old_path = '/home/liu/Documents/data/dogs-vs-cats-redux-kernels-edition/train'\n",
    "data_path_cat = '/home/liu/Documents/data/dogs-vs-cats-redux-kernels-edition/Cat'\n",
    "data_path_dog = '/home/liu/Documents/data/dogs-vs-cats-redux-kernels-edition/Dog'\n",
    "#cope_file(cat_name_list,old_path,data_path_cat)\n",
    "#cope_file(dog_name_list,old_path,data_path_dog)\n",
    "data_path = [data_path_cat, data_path_dog]"
   ]
  },
  {
   "cell_type": "code",
   "execution_count": 8,
   "metadata": {
    "ExecuteTime": {
     "end_time": "2020-10-16T06:24:05.668989Z",
     "start_time": "2020-10-16T06:24:03.412568Z"
    }
   },
   "outputs": [
    {
     "name": "stdout",
     "output_type": "stream",
     "text": [
      "图像列表已生成。\n",
      "训练图片900张，测试图片102张。\n"
     ]
    }
   ],
   "source": [
    "train_img_num = 0\n",
    "test_img_num  = 0\n",
    "with open('./train_data.list', 'w') as f_train:\n",
    "    with open('./test_data.list', 'w') as f_test:\n",
    "        for label,path in enumerate(data_path):\n",
    "            data_imgs = os.listdir(path)\n",
    "            for i in range(0,501):\n",
    "                try:\n",
    "                    img_path = os.path.join(path, data_imgs[i]) # 合成路径\n",
    "                    img_type = imghdr.what(img_path)            # 获取图片类型\n",
    "                    if (img_type=='jpeg')|(img_type=='jpg'):    # jpeg/jpg格式图片保存\n",
    "                        img_arr = np.array(Image.open(img_path))  # 获取图片数据形式\n",
    "                        if len(img_arr.shape) != 2:             # 非彩色图不要\n",
    "                            if i % 10 == 0:\n",
    "                                test_img_num += 1\n",
    "                                f_test.write(img_path + \"\\t\" + str(label) + '\\n')\n",
    "                            else:\n",
    "                                train_img_num += 1\n",
    "                                f_train.write(img_path + \"\\t\" + str(label) + '\\n')\n",
    "                except:\n",
    "                    pass\n",
    "print('图像列表已生成。')\n",
    "print(f'训练图片{train_img_num}张，测试图片{test_img_num}张。')"
   ]
  },
  {
   "cell_type": "markdown",
   "metadata": {},
   "source": [
    "## 定义读取数据\n",
    "PaddlePaddle读取训练和测试数据都是通过reader来读取的，所以我们要自定义一个reader。首先我们定义一个train_mapper()函数，这个函数是对图片进行预处理的。比如通过 paddle.dataset.image.simple_transform接口对图片进行压缩然后裁剪，和灰度化，当参数is_train为True时就会随机裁剪，否则为中心裁剪，一般测试和预测都是中心裁剪。train_r()函数是从上一部分生成的图像列表中读取图片路径和标签，然后把图片路径传递给train_mapper()函数进行预处理。同样的测试数据也是相同的操作。"
   ]
  },
  {
   "cell_type": "code",
   "execution_count": 9,
   "metadata": {
    "ExecuteTime": {
     "end_time": "2020-10-16T06:24:10.630941Z",
     "start_time": "2020-10-16T06:24:10.611693Z"
    }
   },
   "outputs": [],
   "source": [
    "def train_mapper(sample): # 映射器\n",
    "    img, label = sample\n",
    "    img = paddle.dataset.image.load_image(file=img, is_color=is_color) # 加载file路径下彩色或者灰色图像\n",
    "    img = paddle.dataset.image.simple_transform(im=img,\n",
    "                            resize_size=resize_size, crop_size=crop_size,\n",
    "                            is_color=is_color, is_train=True) # 简单的图像变换\n",
    "    img = img.astype('float32') / 255.0\n",
    "    return img,label\n",
    "        \n",
    "def train_r(train_list_path): # 这种函数里面定义函数的现象好像叫做闭包，有兴趣可以百度一下\n",
    "    def reader():\n",
    "        with open(train_list_path, 'r') as f:\n",
    "            lines = f.readlines()\n",
    "            random.shuffle(lines)              # 非常重要，对模型影响很大\n",
    "            for line in lines:\n",
    "                img, label = line.split('\\t')  # 分离路径和标签\n",
    "                yield img, int(label)          # 构建生成器\n",
    "    return paddle.reader.xmap_readers(train_mapper,reader,cpu_count(),256) # 数据映射\n",
    "    # xmap_readers(): 通过多线程方式，通过用户自定义的映射器mapper来映射reader返回的样本（到输出队列）。\n",
    "    # 映射我清楚什么意思，但是我猜可能是从保存图像路径的集合中加载出每个路径对应的经过简单变化的图像数据\n",
    "    # mapper（callable） - 一种映射reader数据的函数。\n",
    "    # reader（callable） - 产生数据的reader。\n",
    "    # process_num（int） - 用于处理样本的线程数目。\n",
    "    # buffer_size（int） - 存有待读取数据的队列的大小。\n",
    "    # 个人理解：reader返回的是图像的路径以及标签的生成器，对这些返回值经过train_mapper函数映射出图像数据\n",
    "\n",
    "def test_mapper(sample): # sample估计就是reader返回的img，label\n",
    "    img, label = sample\n",
    "    img = paddle.dataset.image.load_image(file=img, is_color=is_color)\n",
    "    img = paddle.dataset.image.simple_transform(im=img,\n",
    "                            resize_size=resize_size, crop_size=crop_size,\n",
    "                            is_color=is_color, is_train=False)\n",
    "    img = img.astype('float32') / 255.0\n",
    "    return img, label\n",
    "    \n",
    "def test_r(test_list_path):\n",
    "    def reader():\n",
    "        with open(test_list_path, 'r') as f:\n",
    "            lines = f.readlines()\n",
    "            random.shuffle(lines)\n",
    "            for line in lines:\n",
    "                img, label = line.split('\\t')\n",
    "                yield img, int(label)\n",
    "    return paddle.reader.xmap_readers(test_mapper, reader, cpu_count(), 256)"
   ]
  },
  {
   "cell_type": "markdown",
   "metadata": {},
   "source": [
    "## 定义卷积神经网络"
   ]
  },
  {
   "cell_type": "code",
   "execution_count": 10,
   "metadata": {
    "ExecuteTime": {
     "end_time": "2020-10-16T06:24:12.041001Z",
     "start_time": "2020-10-16T06:24:12.035889Z"
    }
   },
   "outputs": [],
   "source": [
    "def cnn(ipt):\n",
    "    \n",
    "    # 第一个卷积-池化层\n",
    "    conv_pool_1 = fluid.nets.simple_img_conv_pool(\n",
    "        input=ipt,         # 输入图像\n",
    "        filter_size=5,     # 滤波器的大小\n",
    "        num_filters=20,    # filter 的数量。它与输出的通道相同\n",
    "        pool_size=2,       # 池化核大小2*2\n",
    "        pool_stride=2,     # 池化步长\n",
    "        act=\"relu\")        # 激活类型\n",
    "    conv_pool_1 = fluid.layers.batch_norm(conv_pool_1)\n",
    "    # 第二个卷积-池化层\n",
    "    conv_pool_2 = fluid.nets.simple_img_conv_pool(\n",
    "        input=conv_pool_1,\n",
    "        filter_size=5,\n",
    "        num_filters=50,\n",
    "        pool_size=2,\n",
    "        pool_stride=2,\n",
    "        act=\"relu\")\n",
    "    conv_pool_2 = fluid.layers.batch_norm(conv_pool_2)\n",
    "    # 第三个卷积-池化层\n",
    "    conv_pool_3 = fluid.nets.simple_img_conv_pool(\n",
    "        input=conv_pool_2,\n",
    "        filter_size=5,\n",
    "        num_filters=50,\n",
    "        pool_size=2,\n",
    "        pool_stride=2,\n",
    "        act=\"relu\")\n",
    "    # 以softmax为激活函数的全连接输出层，10类数据输出10个数字\n",
    "    prediction = fluid.layers.fc(input=conv_pool_3, size=2, act='softmax')\n",
    "\n",
    "    return prediction"
   ]
  },
  {
   "cell_type": "markdown",
   "metadata": {},
   "source": [
    "## 获取网络"
   ]
  },
  {
   "cell_type": "markdown",
   "metadata": {
    "ExecuteTime": {
     "end_time": "2020-10-16T05:13:44.710360Z",
     "start_time": "2020-10-16T05:13:44.705465Z"
    }
   },
   "source": [
    "通过上面定义的卷积神经网络获取一个分类器，网络的输入层是通过fluid.layers.data()接口定义的，例如输入的形状为[1,128,128]，表示单通道，宽度和高度都是28的图。"
   ]
  },
  {
   "cell_type": "code",
   "execution_count": 11,
   "metadata": {
    "ExecuteTime": {
     "end_time": "2020-10-16T06:24:14.960842Z",
     "start_time": "2020-10-16T06:24:13.619122Z"
    }
   },
   "outputs": [],
   "source": [
    "c = 3 if is_color else 1\n",
    "image = fluid.layers.data(name='image', shape=[c,crop_size,crop_size], dtype='float32')\n",
    "net = cnn(image)"
   ]
  },
  {
   "cell_type": "markdown",
   "metadata": {},
   "source": [
    "## 定义损失函数"
   ]
  },
  {
   "cell_type": "markdown",
   "metadata": {
    "ExecuteTime": {
     "end_time": "2020-10-16T05:14:22.581408Z",
     "start_time": "2020-10-16T05:14:22.577356Z"
    }
   },
   "source": [
    "使用交叉熵函数，fluid.layers.cross_entropy，还是用了fluid.layers.accuracy接口，方便在训练和测试时输出平均值。"
   ]
  },
  {
   "cell_type": "code",
   "execution_count": 12,
   "metadata": {
    "ExecuteTime": {
     "end_time": "2020-10-16T06:24:17.733468Z",
     "start_time": "2020-10-16T06:24:17.586876Z"
    }
   },
   "outputs": [],
   "source": [
    "label = fluid.layers.data(name='label', shape=[1], dtype='int64') # 训练数据标签\n",
    "cost = fluid.layers.cross_entropy(input=net, label=label) # 传入网络和对应标签,一个batch的损失值\n",
    "avg_cost = fluid.layers.mean(cost)    # 对一个batch的损失值求得平均值\n",
    "acc = fluid.layers.accuracy(input=net, label=label)"
   ]
  },
  {
   "cell_type": "markdown",
   "metadata": {},
   "source": [
    "## 克隆测试程序\n",
    "在定义损失之后和定义优化方法之前从主程序中克隆一个测试程序"
   ]
  },
  {
   "cell_type": "code",
   "execution_count": 13,
   "metadata": {
    "ExecuteTime": {
     "end_time": "2020-10-16T06:24:18.777287Z",
     "start_time": "2020-10-16T06:24:18.771018Z"
    }
   },
   "outputs": [],
   "source": [
    "test_program = fluid.default_main_program().clone(for_test=True)"
   ]
  },
  {
   "cell_type": "markdown",
   "metadata": {},
   "source": [
    "## 定义优化方法\n",
    "使用Adam优化方法"
   ]
  },
  {
   "cell_type": "code",
   "execution_count": 14,
   "metadata": {
    "ExecuteTime": {
     "end_time": "2020-10-16T06:24:19.877601Z",
     "start_time": "2020-10-16T06:24:19.539998Z"
    }
   },
   "outputs": [],
   "source": [
    "optimizer = fluid.optimizer.AdamOptimizer(learning_rate=0.001)\n",
    "opt = optimizer.minimize(avg_cost) # 通过优化方法不断使avg_cost尽量小"
   ]
  },
  {
   "cell_type": "markdown",
   "metadata": {},
   "source": [
    "## 创建执行器"
   ]
  },
  {
   "cell_type": "code",
   "execution_count": 15,
   "metadata": {
    "ExecuteTime": {
     "end_time": "2020-10-16T06:24:20.543988Z",
     "start_time": "2020-10-16T06:24:20.531196Z"
    }
   },
   "outputs": [
    {
     "data": {
      "text/plain": [
       "[]"
      ]
     },
     "execution_count": 15,
     "metadata": {},
     "output_type": "execute_result"
    }
   ],
   "source": [
    "place = fluid.core.CPUPlace()# 使用CPU执行训练\n",
    "exe = fluid.Executor(place)\n",
    "exe.run(fluid.default_startup_program())"
   ]
  },
  {
   "cell_type": "markdown",
   "metadata": {},
   "source": [
    "## 把图片生成reader\n",
    "把上面定义的reader按照设置的大小得到每一个batch的reader"
   ]
  },
  {
   "cell_type": "code",
   "execution_count": 16,
   "metadata": {
    "ExecuteTime": {
     "end_time": "2020-10-16T06:24:21.639118Z",
     "start_time": "2020-10-16T06:24:21.635066Z"
    }
   },
   "outputs": [],
   "source": [
    "train_reader = paddle.batch( # 此操作创建一个分批读取器，该成批读取器将输入读取器中的数据组合到成批数据中。\n",
    "                             # 多以说train_reader是一个读取器\n",
    "                            reader=paddle.reader.shuffle(  # 创建一个经过装饰的读取器\n",
    "                                    reader=train_r('./train_data.list'),\n",
    "                                    buf_size=BUF_SIZE),\n",
    "                            batch_size=BATCH_SIZE) # 训练数据每BATCH_SIZE张照片为一个批次\n",
    "test_reader = paddle.batch(\n",
    "                            reader=paddle.reader.shuffle(\n",
    "                                    reader=test_r('./test_data.list'),\n",
    "                                    buf_size=BUF_SIZE),\n",
    "                            batch_size=BATCH_SIZE)"
   ]
  },
  {
   "cell_type": "markdown",
   "metadata": {},
   "source": [
    "## 定义输入数据的维度\n",
    "第一个是图片数据，第二个是标签"
   ]
  },
  {
   "cell_type": "code",
   "execution_count": 17,
   "metadata": {
    "ExecuteTime": {
     "end_time": "2020-10-16T06:24:22.533618Z",
     "start_time": "2020-10-16T06:24:22.530919Z"
    }
   },
   "outputs": [],
   "source": [
    "feeder = fluid.DataFeeder(place=place, feed_list=[image, label])"
   ]
  },
  {
   "cell_type": "markdown",
   "metadata": {},
   "source": [
    "开始训练\n",
    "在每一个Pass训练完之后都用测试集数据测试一下模型准确率"
   ]
  },
  {
   "cell_type": "code",
   "execution_count": 18,
   "metadata": {
    "ExecuteTime": {
     "end_time": "2020-10-16T06:24:23.637700Z",
     "start_time": "2020-10-16T06:24:23.635039Z"
    }
   },
   "outputs": [],
   "source": [
    "training_costs = []\n",
    "training_accs =  []\n",
    "testing_costs  = []\n",
    "testing_accs  =  []"
   ]
  },
  {
   "cell_type": "code",
   "execution_count": 19,
   "metadata": {
    "ExecuteTime": {
     "end_time": "2020-10-16T07:21:25.926474Z",
     "start_time": "2020-10-16T06:24:24.883487Z"
    }
   },
   "outputs": [
    {
     "name": "stdout",
     "output_type": "stream",
     "text": [
      "\n",
      "Pass:1 \tTrain_cost:9.00283\tTrain_acc:0.52930\tTest_cost:1.41355\tTest_acc:0.51961\n",
      "\n",
      "\n",
      "Pass:2 \tTrain_cost:2.63573\tTrain_acc:0.53516\tTest_cost:5.67986\tTest_acc:0.49020\n",
      "\n",
      "\n",
      "Pass:3 \tTrain_cost:3.45871\tTrain_acc:0.54883\tTest_cost:0.99112\tTest_acc:0.52941\n",
      "\n",
      "\n",
      "Pass:4 \tTrain_cost:1.35620\tTrain_acc:0.57422\tTest_cost:1.65391\tTest_acc:0.52941\n",
      "\n",
      "\n",
      "Pass:5 \tTrain_cost:1.62590\tTrain_acc:0.60742\tTest_cost:1.11975\tTest_acc:0.61765\n",
      "\n",
      "\n",
      "Pass:6 \tTrain_cost:1.30487\tTrain_acc:0.55762\tTest_cost:1.59629\tTest_acc:0.53922\n",
      "\n",
      "\n",
      "Pass:7 \tTrain_cost:1.40241\tTrain_acc:0.62695\tTest_cost:1.57475\tTest_acc:0.56863\n",
      "\n",
      "\n",
      "Pass:8 \tTrain_cost:1.33171\tTrain_acc:0.58594\tTest_cost:0.75495\tTest_acc:0.63725\n",
      "\n",
      "\n",
      "Pass:9 \tTrain_cost:0.85805\tTrain_acc:0.61719\tTest_cost:0.71997\tTest_acc:0.68627\n",
      "\n",
      "\n",
      "Pass:10 \tTrain_cost:1.11736\tTrain_acc:0.58105\tTest_cost:1.29550\tTest_acc:0.52941\n",
      "\n",
      "\n",
      "Pass:11 \tTrain_cost:1.15793\tTrain_acc:0.53906\tTest_cost:0.90145\tTest_acc:0.66667\n",
      "\n",
      "\n",
      "Pass:12 \tTrain_cost:1.08473\tTrain_acc:0.49609\tTest_cost:2.19192\tTest_acc:0.50980\n",
      "\n",
      "\n",
      "Pass:13 \tTrain_cost:1.75139\tTrain_acc:0.54395\tTest_cost:0.64123\tTest_acc:0.76471\n",
      "\n",
      "\n",
      "Pass:14 \tTrain_cost:1.17305\tTrain_acc:0.55176\tTest_cost:0.87785\tTest_acc:0.69608\n",
      "\n",
      "\n",
      "Pass:15 \tTrain_cost:1.07822\tTrain_acc:0.59473\tTest_cost:1.46116\tTest_acc:0.54902\n",
      "\n",
      "\n",
      "Pass:16 \tTrain_cost:0.96582\tTrain_acc:0.60156\tTest_cost:3.27246\tTest_acc:0.50000\n",
      "\n",
      "\n",
      "Pass:17 \tTrain_cost:1.65880\tTrain_acc:0.58594\tTest_cost:2.19922\tTest_acc:0.50980\n",
      "\n",
      "\n",
      "Pass:18 \tTrain_cost:1.21895\tTrain_acc:0.51758\tTest_cost:0.84019\tTest_acc:0.56863\n",
      "\n",
      "\n",
      "Pass:19 \tTrain_cost:1.37323\tTrain_acc:0.53711\tTest_cost:1.21761\tTest_acc:0.66667\n",
      "\n",
      "\n",
      "Pass:20 \tTrain_cost:2.93887\tTrain_acc:0.52344\tTest_cost:2.05191\tTest_acc:0.53922\n",
      "\n"
     ]
    }
   ],
   "source": [
    "start = time()\n",
    "for pass_id in range(1,EPOCH+1):\n",
    "    train_costs, train_accs = [], []\n",
    "    for batch_id, data in enumerate(train_reader()):\n",
    "        train_cost, train_acc = exe.run(\n",
    "                    program=fluid.default_main_program(),\n",
    "                    feed=feeder.feed(data),\n",
    "                    fetch_list=[avg_cost, acc])\n",
    "        train_costs.append(train_cost)\n",
    "        train_accs.append(train_acc)\n",
    "        training_costs.append(train_cost)\n",
    "        training_accs.append(train_acc)\n",
    "    train_cost = sum(train_costs) / len(train_costs)\n",
    "    train_acc  = sum(train_accs)  / len(train_accs)\n",
    "    # print(\"Pass:%d\\tTrain_cost:%.5f\\tAccuracy:%.5f\" % (pass_id, train_cost, train_acc)) # 每批次结束时输出\n",
    "    \n",
    "    test_costs, test_accs = [], []\n",
    "    for batch_id, data in enumerate(test_reader()):\n",
    "        test_cost, test_acc = exe.run(\n",
    "                    program=test_program,\n",
    "                    feed=feeder.feed(data),\n",
    "                    fetch_list=[avg_cost, acc])\n",
    "        test_costs.append(test_cost)\n",
    "        test_accs.append(test_acc)\n",
    "        testing_costs.append(test_cost)\n",
    "        testing_accs.append(test_acc)\n",
    "    test_cost = sum(test_costs) / len(test_costs)\n",
    "    test_acc  = sum(test_accs)  / len(test_accs)\n",
    "    \n",
    "    print(\"\\nPass:%d \\tTrain_cost:%.5f\\tTrain_acc:%.5f\\tTest_cost:%.5f\\tTest_acc:%.5f\\n\"\n",
    "            %(pass_id,train_cost,train_acc,test_cost,test_acc))\n",
    "end = time()"
   ]
  },
  {
   "cell_type": "code",
   "execution_count": 20,
   "metadata": {
    "ExecuteTime": {
     "end_time": "2020-10-16T07:21:54.381177Z",
     "start_time": "2020-10-16T07:21:54.377133Z"
    }
   },
   "outputs": [
    {
     "name": "stdout",
     "output_type": "stream",
     "text": [
      "用时3421.0365109443665s\n"
     ]
    }
   ],
   "source": [
    "print(f\"用时{end-start}s\")"
   ]
  },
  {
   "cell_type": "code",
   "execution_count": 21,
   "metadata": {
    "ExecuteTime": {
     "end_time": "2020-10-16T07:22:19.009775Z",
     "start_time": "2020-10-16T07:22:19.003660Z"
    }
   },
   "outputs": [],
   "source": [
    "training_costs = [x[0] for x in training_costs]\n",
    "training_accs = [x[0] for x in training_accs]\n",
    "testing_costs = [x[0] for x in testing_costs]\n",
    "testing_accs = [x[0] for x in testing_accs]"
   ]
  },
  {
   "cell_type": "code",
   "execution_count": 22,
   "metadata": {
    "ExecuteTime": {
     "end_time": "2020-10-16T07:22:35.668708Z",
     "start_time": "2020-10-16T07:22:31.273005Z"
    }
   },
   "outputs": [
    {
     "data": {
      "text/plain": [
       "<AxesSubplot:title={'center':'test_acc'}>"
      ]
     },
     "execution_count": 22,
     "metadata": {},
     "output_type": "execute_result"
    },
    {
     "data": {
      "image/png": "[encoded data removed]",
      "text/plain": [
       "<Figure size 1152x720 with 4 Axes>"
      ]
     },
     "metadata": {
      "needs_background": "light"
     },
     "output_type": "display_data"
    }
   ],
   "source": [
    "plt.figure(figsize=(16,10))\n",
    "plt.subplot(221)\n",
    "plt.title('train_cost')\n",
    "sns.lineplot(x=list(range(1,1+len(training_costs))),y=training_costs)\n",
    "plt.subplot(222)\n",
    "plt.title('train_acc')\n",
    "sns.lineplot(x=list(range(1,1+len(training_accs))),y=training_accs,color='r')\n",
    "plt.subplot(223)\n",
    "plt.title('test_cost')\n",
    "sns.lineplot(x=list(range(1,1+len(testing_costs))),y=testing_costs,color='c')\n",
    "plt.subplot(224)\n",
    "plt.title('test_acc')\n",
    "sns.lineplot(x=list(range(1,1+len(testing_accs))),y=testing_accs,color='k')"
   ]
  },
  {
   "cell_type": "code",
   "execution_count": 23,
   "metadata": {
    "ExecuteTime": {
     "end_time": "2020-10-16T07:25:53.693664Z",
     "start_time": "2020-10-16T07:25:52.585831Z"
    }
   },
   "outputs": [
    {
     "name": "stdout",
     "output_type": "stream",
     "text": [
      "Saved model to /home/liu/Documents/data/dogs-vs-cats-redux-kernels-edition/model/Cat&Dog\n"
     ]
    },
    {
     "data": {
      "text/plain": [
       "['save_infer_model/scale_0.tmp_0']"
      ]
     },
     "execution_count": 23,
     "metadata": {},
     "output_type": "execute_result"
    }
   ],
   "source": [
    "save_model_dir = \"/home/liu/Documents/data/dogs-vs-cats-redux-kernels-edition/model/Cat&Dog\"\n",
    "if not os.path.exists(save_model_dir):\n",
    "    os.makedirs(save_model_dir)\n",
    "print(f\"Saved model to {save_model_dir}\")\n",
    "\n",
    "# 保存模型到指定目录\n",
    "fluid.io.save_inference_model(dirname=save_model_dir,\n",
    "                              feeded_var_names=['image'], # 字符串列表，预测期间需要喂入的数据变量名称\n",
    "                              target_vars=[net],          # 变量列表，从net中我们可以得到推理结果\n",
    "                             executor=exe)                # 保存模型的推理程序"
   ]
  },
  {
   "cell_type": "markdown",
   "metadata": {},
   "source": [
    "## 加载模型并预测"
   ]
  },
  {
   "cell_type": "code",
   "execution_count": 24,
   "metadata": {
    "ExecuteTime": {
     "end_time": "2020-10-16T07:26:37.278446Z",
     "start_time": "2020-10-16T07:26:37.274100Z"
    }
   },
   "outputs": [],
   "source": [
    "# 构建测试用的执行器\n",
    "infer_exe = fluid.Executor(place)\n",
    "# 指定作用域\n",
    "inference_scope = fluid.core.Scope()"
   ]
  },
  {
   "cell_type": "code",
   "execution_count": 25,
   "metadata": {
    "ExecuteTime": {
     "end_time": "2020-10-16T07:27:02.510387Z",
     "start_time": "2020-10-16T07:26:54.410522Z"
    }
   },
   "outputs": [],
   "source": [
    "with fluid.scope_guard(scope=inference_scope):\n",
    "    # load model\n",
    "    [inference_program,     # 预测程序\n",
    "     feed_target_names,     # 需要在推理时提供的数据名称 字符串列表\n",
    "     fetch_targets] = fluid.io.load_inference_model(  # 从fetch_traget中可以得到预测结果 变量列表\n",
    "                      dirname=save_model_dir, executor=infer_exe)\n",
    "    infer_reader = paddle.batch(reader=paddle.reader.shuffle(\n",
    "                                                    reader=test_r('./test_data.list'),\n",
    "                                                    buf_size=BUF_SIZE),\n",
    "                                batch_size=BATCH_SIZE)\n",
    "    all_result = [] # 保存测试结果\n",
    "    test_y = []     # 保存真实标签\n",
    "    for data in infer_reader():\n",
    "        test_x = np.array([x[0] for x in data]).astype(\"float32\") # 提取图片数据\n",
    "        test_y.append([x[1] for x in data])   # 提取图片标签\n",
    "        result = infer_exe.run(program=inference_program,\n",
    "                               feed={feed_target_names[0]:test_x},\n",
    "                               fetch_list=fetch_targets)\n",
    "        all_result.append(result[0])"
   ]
  },
  {
   "cell_type": "code",
   "execution_count": 26,
   "metadata": {
    "ExecuteTime": {
     "end_time": "2020-10-16T07:27:22.223441Z",
     "start_time": "2020-10-16T07:27:22.217970Z"
    }
   },
   "outputs": [],
   "source": [
    "# 整理预测结果和真实标签成一维numpy.ndarray\n",
    "infer_lab = np.array([np.argmax(x) for batch in all_result for x in batch]).astype(\"int32\")\n",
    "true_lab = np.array([x for batch in test_y for x in batch]).astype(\"int32\")"
   ]
  },
  {
   "cell_type": "code",
   "execution_count": 27,
   "metadata": {
    "ExecuteTime": {
     "end_time": "2020-10-16T07:27:32.031916Z",
     "start_time": "2020-10-16T07:27:32.027704Z"
    }
   },
   "outputs": [
    {
     "name": "stdout",
     "output_type": "stream",
     "text": [
      "预测准确率为：0.5392156862745098\n"
     ]
    }
   ],
   "source": [
    "print(f\"预测准确率为：{sum(infer_lab==true_lab)/len(true_lab)}\")"
   ]
  }
 ],
 "metadata": {
  "kernelspec": {
   "display_name": "Python 3",
   "language": "python",
   "name": "python3"
  },
  "language_info": {
   "codemirror_mode": {
    "name": "ipython",
    "version": 3
   },
   "file_extension": ".py",
   "mimetype": "text/x-python",
   "name": "python",
   "nbconvert_exporter": "python",
   "pygments_lexer": "ipython3",
   "version": "3.8.3"
  }
 },
 "nbformat": 4,
 "nbformat_minor": 4
}
