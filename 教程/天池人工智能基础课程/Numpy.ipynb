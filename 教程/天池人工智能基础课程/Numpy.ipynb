{
 "cells": [
  {
   "cell_type": "markdown",
   "metadata": {},
   "source": [
    "# Numpy\n",
    "\n",
    "## numpy简介\n",
    "1. 强大的ndarray多维数组结构\n",
    "2. 成熟的函数库\n",
    "3. 用于整合C/C++等代码的工具包\n",
    "4. 实用的线性代数\\傅里叶变换和随机数模块\n",
    "\n",
    "numpy使用之前需要导入"
   ]
  },
  {
   "cell_type": "code",
   "execution_count": 2,
   "metadata": {
    "ExecuteTime": {
     "end_time": "2020-10-08T10:58:10.735751Z",
     "start_time": "2020-10-08T10:58:10.719159Z"
    }
   },
   "outputs": [
    {
     "data": {
      "text/plain": [
       "array([1, 2, 3, 4, 5])"
      ]
     },
     "execution_count": 2,
     "metadata": {},
     "output_type": "execute_result"
    }
   ],
   "source": [
    "import numpy as np\n",
    "my_array = np.array([1,2,3,4,5])\n",
    "my_array"
   ]
  },
  {
   "cell_type": "markdown",
   "metadata": {
    "ExecuteTime": {
     "end_time": "2020-10-08T11:09:55.284929Z",
     "start_time": "2020-10-08T11:09:55.279841Z"
    }
   },
   "source": [
    "在数学中,向量(也称为欧几里得向量\\几何向量\\矢量),指具有大小(magnitude)和方向的量.  \n",
    "在numpy中,向量(Vector)即一维数组,可以使用arange函数来创建向量.  "
   ]
  },
  {
   "cell_type": "code",
   "execution_count": 6,
   "metadata": {
    "ExecuteTime": {
     "end_time": "2020-10-08T11:11:33.363894Z",
     "start_time": "2020-10-08T11:11:33.359591Z"
    }
   },
   "outputs": [
    {
     "data": {
      "text/plain": [
       "array([0, 1, 2, 3, 4, 5, 6, 7, 8, 9])"
      ]
     },
     "execution_count": 6,
     "metadata": {},
     "output_type": "execute_result"
    }
   ],
   "source": [
    "vec = np.arange(10)\n",
    "vec#左闭右开"
   ]
  },
  {
   "cell_type": "code",
   "execution_count": 7,
   "metadata": {
    "ExecuteTime": {
     "end_time": "2020-10-08T11:11:39.015920Z",
     "start_time": "2020-10-08T11:11:39.010512Z"
    }
   },
   "outputs": [
    {
     "data": {
      "text/plain": [
       "numpy.ndarray"
      ]
     },
     "execution_count": 7,
     "metadata": {},
     "output_type": "execute_result"
    }
   ],
   "source": [
    "type(vec)"
   ]
  },
  {
   "cell_type": "code",
   "execution_count": 8,
   "metadata": {
    "ExecuteTime": {
     "end_time": "2020-10-08T11:11:50.581937Z",
     "start_time": "2020-10-08T11:11:50.577294Z"
    }
   },
   "outputs": [
    {
     "data": {
      "text/plain": [
       "dtype('int64')"
      ]
     },
     "execution_count": 8,
     "metadata": {},
     "output_type": "execute_result"
    }
   ],
   "source": [
    "vec.dtype"
   ]
  },
  {
   "cell_type": "code",
   "execution_count": 9,
   "metadata": {
    "ExecuteTime": {
     "end_time": "2020-10-08T11:12:03.497464Z",
     "start_time": "2020-10-08T11:12:03.492349Z"
    }
   },
   "outputs": [
    {
     "data": {
      "text/plain": [
       "array([ 0, 10, 20, 30, 40, 50, 60, 70, 80, 90])"
      ]
     },
     "execution_count": 9,
     "metadata": {},
     "output_type": "execute_result"
    }
   ],
   "source": [
    "vec*10"
   ]
  },
  {
   "cell_type": "code",
   "execution_count": 11,
   "metadata": {
    "ExecuteTime": {
     "end_time": "2020-10-08T11:13:10.037724Z",
     "start_time": "2020-10-08T11:13:10.032797Z"
    }
   },
   "outputs": [
    {
     "data": {
      "text/plain": [
       "array([ 1.,  3.,  5.,  7.,  9., 11., 13., 15., 17., 19.])"
      ]
     },
     "execution_count": 11,
     "metadata": {},
     "output_type": "execute_result"
    }
   ],
   "source": [
    "np.linspace(1,19,10)"
   ]
  },
  {
   "cell_type": "code",
   "execution_count": 12,
   "metadata": {
    "ExecuteTime": {
     "end_time": "2020-10-08T11:13:50.885558Z",
     "start_time": "2020-10-08T11:13:50.880683Z"
    }
   },
   "outputs": [
    {
     "data": {
      "text/plain": [
       "array([ 1. ,  2.8,  4.6,  6.4,  8.2, 10. , 11.8, 13.6, 15.4, 17.2])"
      ]
     },
     "execution_count": 12,
     "metadata": {},
     "output_type": "execute_result"
    }
   ],
   "source": [
    "np.linspace(1,19,10,endpoint = False)"
   ]
  },
  {
   "cell_type": "code",
   "execution_count": 13,
   "metadata": {
    "ExecuteTime": {
     "end_time": "2020-10-08T11:14:45.984044Z",
     "start_time": "2020-10-08T11:14:45.968293Z"
    }
   },
   "outputs": [
    {
     "data": {
      "text/plain": [
       "array([0, 0, 0, 0, 0, 0, 0, 0, 0, 0, 0, 0, 0, 0, 0, 0, 0, 0, 0, 0])"
      ]
     },
     "execution_count": 13,
     "metadata": {},
     "output_type": "execute_result"
    }
   ],
   "source": [
    "np.zeros(20,np.int)"
   ]
  },
  {
   "cell_type": "code",
   "execution_count": 14,
   "metadata": {
    "ExecuteTime": {
     "end_time": "2020-10-08T11:15:08.469976Z",
     "start_time": "2020-10-08T11:15:08.465069Z"
    }
   },
   "outputs": [
    {
     "data": {
      "text/plain": [
       "array([1, 1, 1, 1, 1, 1, 1, 1, 1, 1, 1, 1, 1, 1, 1, 1, 1, 1, 1, 1])"
      ]
     },
     "execution_count": 14,
     "metadata": {},
     "output_type": "execute_result"
    }
   ],
   "source": [
    "np.ones(20,np.int)"
   ]
  },
  {
   "cell_type": "code",
   "execution_count": 15,
   "metadata": {
    "ExecuteTime": {
     "end_time": "2020-10-08T11:15:59.797592Z",
     "start_time": "2020-10-08T11:15:59.792994Z"
    }
   },
   "outputs": [
    {
     "data": {
      "text/plain": [
       "array([ 0.20368586,  1.02255915,  0.38929251, -1.92392919,  1.10320389,\n",
       "        0.75780325,  0.47957192, -1.29807242,  0.60620074,  0.9465564 ])"
      ]
     },
     "execution_count": 15,
     "metadata": {},
     "output_type": "execute_result"
    }
   ],
   "source": [
    "np.random.randn(10)#正态分布"
   ]
  },
  {
   "cell_type": "markdown",
   "metadata": {},
   "source": [
    "## 索引和切片"
   ]
  },
  {
   "cell_type": "markdown",
   "metadata": {},
   "source": [
    "numpy同python基础库中的序列一样,数组的索引和切片也同样使用中括号`[]`选定下标来实现,也可以使用`:`分割起止位置与间隔,用`,`表示不同的纬度.  "
   ]
  },
  {
   "cell_type": "code",
   "execution_count": 16,
   "metadata": {
    "ExecuteTime": {
     "end_time": "2020-10-08T11:21:20.922387Z",
     "start_time": "2020-10-08T11:21:20.917141Z"
    }
   },
   "outputs": [
    {
     "data": {
      "text/plain": [
       "array([1, 2, 3, 4, 5, 6, 7, 8, 9])"
      ]
     },
     "execution_count": 16,
     "metadata": {},
     "output_type": "execute_result"
    }
   ],
   "source": [
    "a = np.arange(1,10,1)\n",
    "a"
   ]
  },
  {
   "cell_type": "code",
   "execution_count": 17,
   "metadata": {
    "ExecuteTime": {
     "end_time": "2020-10-08T11:21:56.357626Z",
     "start_time": "2020-10-08T11:21:56.352403Z"
    }
   },
   "outputs": [
    {
     "data": {
      "text/plain": [
       "2"
      ]
     },
     "execution_count": 17,
     "metadata": {},
     "output_type": "execute_result"
    }
   ],
   "source": [
    "a[1]"
   ]
  },
  {
   "cell_type": "code",
   "execution_count": 18,
   "metadata": {
    "ExecuteTime": {
     "end_time": "2020-10-08T11:22:02.388388Z",
     "start_time": "2020-10-08T11:22:02.383859Z"
    }
   },
   "outputs": [
    {
     "data": {
      "text/plain": [
       "array([2, 3])"
      ]
     },
     "execution_count": 18,
     "metadata": {},
     "output_type": "execute_result"
    }
   ],
   "source": [
    "a[1:3]#左闭右开"
   ]
  },
  {
   "cell_type": "code",
   "execution_count": 20,
   "metadata": {
    "ExecuteTime": {
     "end_time": "2020-10-08T11:23:00.434031Z",
     "start_time": "2020-10-08T11:23:00.428906Z"
    }
   },
   "outputs": [
    {
     "data": {
      "text/plain": [
       "array([1, 2, 3])"
      ]
     },
     "execution_count": 20,
     "metadata": {},
     "output_type": "execute_result"
    }
   ],
   "source": [
    "a[:3]#从起始位置开始"
   ]
  },
  {
   "cell_type": "code",
   "execution_count": 21,
   "metadata": {
    "ExecuteTime": {
     "end_time": "2020-10-08T11:23:33.590715Z",
     "start_time": "2020-10-08T11:23:33.586770Z"
    }
   },
   "outputs": [
    {
     "data": {
      "text/plain": [
       "8"
      ]
     },
     "execution_count": 21,
     "metadata": {},
     "output_type": "execute_result"
    }
   ],
   "source": [
    "a[-2]#从右-1开始数"
   ]
  },
  {
   "cell_type": "code",
   "execution_count": 24,
   "metadata": {
    "ExecuteTime": {
     "end_time": "2020-10-08T11:28:44.855694Z",
     "start_time": "2020-10-08T11:28:44.850616Z"
    }
   },
   "outputs": [
    {
     "data": {
      "text/plain": [
       "array([9, 8, 7, 6, 5, 4, 3, 2, 1])"
      ]
     },
     "execution_count": 24,
     "metadata": {},
     "output_type": "execute_result"
    }
   ],
   "source": [
    "a[::-1] #从索引 : 开始到索引 : 停止，间隔为 -1"
   ]
  },
  {
   "cell_type": "code",
   "execution_count": 25,
   "metadata": {
    "ExecuteTime": {
     "end_time": "2020-10-08T11:30:09.110141Z",
     "start_time": "2020-10-08T11:30:09.105459Z"
    }
   },
   "outputs": [
    {
     "data": {
      "text/plain": [
       "array([[[ 0,  1,  2,  3],\n",
       "        [ 4,  5,  6,  7],\n",
       "        [ 8,  9, 10, 11]],\n",
       "\n",
       "       [[12, 13, 14, 15],\n",
       "        [16, 17, 18, 19],\n",
       "        [20, 21, 22, 23]]])"
      ]
     },
     "execution_count": 25,
     "metadata": {},
     "output_type": "execute_result"
    }
   ],
   "source": [
    "b = np.arange(24).reshape(2,3,4)\n",
    "b"
   ]
  },
  {
   "cell_type": "code",
   "execution_count": 26,
   "metadata": {
    "ExecuteTime": {
     "end_time": "2020-10-08T11:31:38.227047Z",
     "start_time": "2020-10-08T11:31:38.220841Z"
    }
   },
   "outputs": [
    {
     "data": {
      "text/plain": [
       "19"
      ]
     },
     "execution_count": 26,
     "metadata": {},
     "output_type": "execute_result"
    }
   ],
   "source": [
    "b[1,1,3]"
   ]
  },
  {
   "cell_type": "code",
   "execution_count": 27,
   "metadata": {
    "ExecuteTime": {
     "end_time": "2020-10-08T11:32:10.614399Z",
     "start_time": "2020-10-08T11:32:10.584407Z"
    }
   },
   "outputs": [
    {
     "data": {
      "text/plain": [
       "array([4, 5, 6, 7])"
      ]
     },
     "execution_count": 27,
     "metadata": {},
     "output_type": "execute_result"
    }
   ],
   "source": [
    "b[0,1,:]"
   ]
  },
  {
   "cell_type": "code",
   "execution_count": 28,
   "metadata": {
    "ExecuteTime": {
     "end_time": "2020-10-08T11:32:39.459505Z",
     "start_time": "2020-10-08T11:32:39.445425Z"
    }
   },
   "outputs": [
    {
     "data": {
      "text/plain": [
       "array([ 8,  9, 10, 11])"
      ]
     },
     "execution_count": 28,
     "metadata": {},
     "output_type": "execute_result"
    }
   ],
   "source": [
    "b[0,2]"
   ]
  },
  {
   "cell_type": "code",
   "execution_count": 29,
   "metadata": {
    "ExecuteTime": {
     "end_time": "2020-10-08T11:32:59.753889Z",
     "start_time": "2020-10-08T11:32:59.742321Z"
    }
   },
   "outputs": [
    {
     "data": {
      "text/plain": [
       "array([[12, 13, 14, 15],\n",
       "       [16, 17, 18, 19],\n",
       "       [20, 21, 22, 23]])"
      ]
     },
     "execution_count": 29,
     "metadata": {},
     "output_type": "execute_result"
    }
   ],
   "source": [
    "b[1]"
   ]
  },
  {
   "cell_type": "code",
   "execution_count": 30,
   "metadata": {
    "ExecuteTime": {
     "end_time": "2020-10-08T11:33:20.316029Z",
     "start_time": "2020-10-08T11:33:20.295617Z"
    }
   },
   "outputs": [
    {
     "data": {
      "text/plain": [
       "array([[ 4,  5,  6,  7],\n",
       "       [16, 17, 18, 19]])"
      ]
     },
     "execution_count": 30,
     "metadata": {},
     "output_type": "execute_result"
    }
   ],
   "source": [
    "b[:,1]"
   ]
  },
  {
   "cell_type": "code",
   "execution_count": 31,
   "metadata": {
    "ExecuteTime": {
     "end_time": "2020-10-08T11:33:55.866888Z",
     "start_time": "2020-10-08T11:33:55.850878Z"
    }
   },
   "outputs": [
    {
     "data": {
      "text/plain": [
       "array([[ 1,  5,  9],\n",
       "       [13, 17, 21]])"
      ]
     },
     "execution_count": 31,
     "metadata": {},
     "output_type": "execute_result"
    }
   ],
   "source": [
    "b[:,:,1]"
   ]
  },
  {
   "cell_type": "markdown",
   "metadata": {},
   "source": [
    "逻辑索引可以通过指定布尔数组或者条件进行索引"
   ]
  },
  {
   "cell_type": "code",
   "execution_count": 32,
   "metadata": {
    "ExecuteTime": {
     "end_time": "2020-10-08T11:35:54.521262Z",
     "start_time": "2020-10-08T11:35:54.511655Z"
    }
   },
   "outputs": [
    {
     "data": {
      "text/plain": [
       "array([ 1,  2,  3,  4,  5,  6,  7,  8,  9, 10, 11, 12, 13, 14, 15, 16, 17,\n",
       "       18, 19])"
      ]
     },
     "execution_count": 32,
     "metadata": {},
     "output_type": "execute_result"
    }
   ],
   "source": [
    "c =np.arange(1,20,1)\n",
    "c"
   ]
  },
  {
   "cell_type": "code",
   "execution_count": 33,
   "metadata": {
    "ExecuteTime": {
     "end_time": "2020-10-08T11:36:07.736757Z",
     "start_time": "2020-10-08T11:36:07.724430Z"
    }
   },
   "outputs": [
    {
     "data": {
      "text/plain": [
       "array([15, 16, 17, 18, 19])"
      ]
     },
     "execution_count": 33,
     "metadata": {},
     "output_type": "execute_result"
    }
   ],
   "source": [
    "c[c>=15]"
   ]
  },
  {
   "cell_type": "code",
   "execution_count": 34,
   "metadata": {
    "ExecuteTime": {
     "end_time": "2020-10-08T11:36:24.259039Z",
     "start_time": "2020-10-08T11:36:24.249142Z"
    }
   },
   "outputs": [
    {
     "data": {
      "text/plain": [
       "array([ 1,  2,  3,  4,  5,  6,  7,  8,  9, 10, 11, 12, 13, 14])"
      ]
     },
     "execution_count": 34,
     "metadata": {},
     "output_type": "execute_result"
    }
   ],
   "source": [
    "c[~(c>=15)]"
   ]
  },
  {
   "cell_type": "code",
   "execution_count": 35,
   "metadata": {
    "ExecuteTime": {
     "end_time": "2020-10-08T11:36:55.606126Z",
     "start_time": "2020-10-08T11:36:55.590602Z"
    }
   },
   "outputs": [
    {
     "data": {
      "text/plain": [
       "array([ 5,  6,  7,  8,  9, 10, 11, 12, 13, 14, 15])"
      ]
     },
     "execution_count": 35,
     "metadata": {},
     "output_type": "execute_result"
    }
   ],
   "source": [
    "c[(c>=5)&(c<=15)]"
   ]
  },
  {
   "cell_type": "markdown",
   "metadata": {},
   "source": [
    "## 矩阵应用\n",
    "矩阵是numpy提供的另外一种数据类型,可以使用mat或者matrix函数将数组转化为矩阵."
   ]
  },
  {
   "cell_type": "code",
   "execution_count": 36,
   "metadata": {
    "ExecuteTime": {
     "end_time": "2020-10-08T11:39:56.681401Z",
     "start_time": "2020-10-08T11:39:56.657882Z"
    }
   },
   "outputs": [
    {
     "data": {
      "text/plain": [
       "matrix([[1, 2, 3],\n",
       "        [4, 5, 6]])"
      ]
     },
     "execution_count": 36,
     "metadata": {},
     "output_type": "execute_result"
    }
   ],
   "source": [
    "mat1 = [[1,2,3],[4,5,6]]\n",
    "np.mat(mat1)"
   ]
  },
  {
   "cell_type": "code",
   "execution_count": 37,
   "metadata": {
    "ExecuteTime": {
     "end_time": "2020-10-08T11:54:24.473987Z",
     "start_time": "2020-10-08T11:54:24.459550Z"
    }
   },
   "outputs": [
    {
     "data": {
      "text/plain": [
       "matrix([[ 8, 16, 24],\n",
       "        [32, 40, 48]])"
      ]
     },
     "execution_count": 37,
     "metadata": {},
     "output_type": "execute_result"
    }
   ],
   "source": [
    "np.mat(mat1)*8"
   ]
  },
  {
   "cell_type": "code",
   "execution_count": 39,
   "metadata": {
    "ExecuteTime": {
     "end_time": "2020-10-08T11:55:27.816499Z",
     "start_time": "2020-10-08T11:55:27.810925Z"
    }
   },
   "outputs": [
    {
     "data": {
      "text/plain": [
       "matrix([[1, 2, 3],\n",
       "        [4, 5, 6],\n",
       "        [7, 8, 9]])"
      ]
     },
     "execution_count": 39,
     "metadata": {},
     "output_type": "execute_result"
    }
   ],
   "source": [
    "mat2=np.mat([[1,2,3],[4,5,6],[7,8,9]])\n",
    "mat2"
   ]
  },
  {
   "cell_type": "code",
   "execution_count": 40,
   "metadata": {
    "ExecuteTime": {
     "end_time": "2020-10-08T11:55:40.500118Z",
     "start_time": "2020-10-08T11:55:40.495637Z"
    }
   },
   "outputs": [
    {
     "data": {
      "text/plain": [
       "matrix([[30, 36, 42],\n",
       "        [66, 81, 96]])"
      ]
     },
     "execution_count": 40,
     "metadata": {},
     "output_type": "execute_result"
    }
   ],
   "source": [
    "mat1*mat2#矩阵乘法"
   ]
  },
  {
   "cell_type": "code",
   "execution_count": 42,
   "metadata": {
    "ExecuteTime": {
     "end_time": "2020-10-08T11:56:25.795675Z",
     "start_time": "2020-10-08T11:56:25.790963Z"
    }
   },
   "outputs": [
    {
     "data": {
      "text/plain": [
       "matrix([[1, 4, 7],\n",
       "        [2, 5, 8],\n",
       "        [3, 6, 9]])"
      ]
     },
     "execution_count": 42,
     "metadata": {},
     "output_type": "execute_result"
    }
   ],
   "source": [
    "mat2.T#矩阵转置"
   ]
  },
  {
   "cell_type": "code",
   "execution_count": 43,
   "metadata": {
    "ExecuteTime": {
     "end_time": "2020-10-08T11:57:27.730893Z",
     "start_time": "2020-10-08T11:57:27.726954Z"
    }
   },
   "outputs": [
    {
     "data": {
      "text/plain": [
       "matrix([[0., 0., 0.],\n",
       "        [0., 0., 0.],\n",
       "        [0., 0., 0.]])"
      ]
     },
     "execution_count": 43,
     "metadata": {},
     "output_type": "execute_result"
    }
   ],
   "source": [
    "mat3 = np.mat(np.zeros((3,3)))\n",
    "mat3"
   ]
  },
  {
   "cell_type": "code",
   "execution_count": 45,
   "metadata": {
    "ExecuteTime": {
     "end_time": "2020-10-08T11:58:17.432023Z",
     "start_time": "2020-10-08T11:58:17.409498Z"
    }
   },
   "outputs": [
    {
     "data": {
      "text/plain": [
       "matrix([[1., 1., 1., 1.],\n",
       "        [1., 1., 1., 1.]])"
      ]
     },
     "execution_count": 45,
     "metadata": {},
     "output_type": "execute_result"
    }
   ],
   "source": [
    "mat4 = np.mat(np.ones((2,4)))\n",
    "mat4"
   ]
  },
  {
   "cell_type": "code",
   "execution_count": 46,
   "metadata": {
    "ExecuteTime": {
     "end_time": "2020-10-08T11:59:06.390379Z",
     "start_time": "2020-10-08T11:59:06.377056Z"
    }
   },
   "outputs": [
    {
     "data": {
      "text/plain": [
       "matrix([[0.09332519, 0.14980131],\n",
       "        [0.52108594, 0.24647676]])"
      ]
     },
     "execution_count": 46,
     "metadata": {},
     "output_type": "execute_result"
    }
   ],
   "source": [
    "mat5 = np.mat(np.random.rand(2,2))\n",
    "mat5"
   ]
  },
  {
   "cell_type": "code",
   "execution_count": 47,
   "metadata": {
    "ExecuteTime": {
     "end_time": "2020-10-08T11:59:42.553063Z",
     "start_time": "2020-10-08T11:59:42.532989Z"
    }
   },
   "outputs": [
    {
     "data": {
      "text/plain": [
       "matrix([[1, 0],\n",
       "        [0, 1]])"
      ]
     },
     "execution_count": 47,
     "metadata": {},
     "output_type": "execute_result"
    }
   ],
   "source": [
    "mat6=np.mat(np.eye(2,2,dtype=int))\n",
    "mat6"
   ]
  },
  {
   "cell_type": "code",
   "execution_count": 51,
   "metadata": {
    "ExecuteTime": {
     "end_time": "2020-10-08T12:00:45.573712Z",
     "start_time": "2020-10-08T12:00:45.567612Z"
    }
   },
   "outputs": [
    {
     "data": {
      "text/plain": [
       "matrix([[1, 0, 0],\n",
       "        [0, 2, 0],\n",
       "        [0, 0, 3]])"
      ]
     },
     "execution_count": 51,
     "metadata": {},
     "output_type": "execute_result"
    }
   ],
   "source": [
    "a1=[1,2,3]\n",
    "a2=np.mat(np.diag(a1))\n",
    "a2"
   ]
  },
  {
   "cell_type": "markdown",
   "metadata": {},
   "source": [
    "## 基础项目练习"
   ]
  },
  {
   "cell_type": "markdown",
   "metadata": {},
   "source": [
    "读入数据\n",
    "```python\n",
    "c,v=np.loadtxt('datalab/28801/data.csv',delimiter=',', usecols=(6,7), unpack=True)\n",
    "#delimiter分割 usecols使用的列 unpack分别把两列数据放进c,v中\n",
    "```"
   ]
  },
  {
   "cell_type": "code",
   "execution_count": 64,
   "metadata": {
    "ExecuteTime": {
     "end_time": "2020-10-08T13:03:38.770200Z",
     "start_time": "2020-10-08T13:03:38.763516Z"
    }
   },
   "outputs": [
    {
     "data": {
      "text/plain": [
       "(array([336.1 , 339.32, 345.03, 344.32, 343.44, 346.5 , 351.88, 355.2 ,\n",
       "        358.16, 354.54, 356.85, 359.18, 359.9 , 363.13, 358.3 , 350.56,\n",
       "        338.61, 342.62, 342.88, 348.16, 353.21, 349.31, 352.12, 359.56,\n",
       "        360.  , 355.76, 352.47, 321.5 , 360.54, 355.5 ]),\n",
       " array([21144800., 13473000., 15236800.,  9242600., 14064100., 11494200.,\n",
       "        17322100., 13608500., 17240800., 33162400., 13127500., 11086200.,\n",
       "        10149000., 17184100., 18949000., 29144500., 31162200., 23994700.,\n",
       "        17853500., 13572000., 14395400., 16290300., 21521000., 17885200.,\n",
       "        16188000., 19504300., 12718000., 16192700., 18138800., 16824200.]))"
      ]
     },
     "execution_count": 64,
     "metadata": {},
     "output_type": "execute_result"
    }
   ],
   "source": [
    "c = np.array([336.1,339.32,345.03,344.32,343.44,346.5,351.88,355.2,358.16,354.54,356.85,359.18,359.9,363.13,358.3,\n",
    "            350.56,338.61,342.62,342.88,348.16,353.21,349.31,352.12,359.56,360.,355.76,352.47,321.5,360.54,355.5])\n",
    "v = np.array([21144800.,13473000.,15236800.,9242600.,14064100.,11494200.,17322100.,13608500.,17240800.,33162400.,\n",
    "             13127500.,11086200.,10149000.,17184100.,18949000.,29144500.,31162200.,23994700.,17853500.,13572000.,\n",
    "             14395400.,16290300.,21521000.,17885200.,16188000.,19504300.,12718000.,16192700.,18138800.,16824200.])\n",
    "c,v"
   ]
  },
  {
   "cell_type": "code",
   "execution_count": 65,
   "metadata": {
    "ExecuteTime": {
     "end_time": "2020-10-08T13:03:39.096162Z",
     "start_time": "2020-10-08T13:03:39.091000Z"
    }
   },
   "outputs": [
    {
     "data": {
      "text/plain": [
       "350.15861758074186"
      ]
     },
     "execution_count": 65,
     "metadata": {},
     "output_type": "execute_result"
    }
   ],
   "source": [
    "#VWAP:成交量加权平均价格,某个价格的成交量越高,该价格所占的比重越大.所以VWAP就是以成交量为权重计算出来的加权平均值\n",
    "vwap = np.average(c,weights=v)\n",
    "vwap"
   ]
  },
  {
   "cell_type": "code",
   "execution_count": 66,
   "metadata": {
    "ExecuteTime": {
     "end_time": "2020-10-08T13:03:39.417578Z",
     "start_time": "2020-10-08T13:03:39.413335Z"
    }
   },
   "outputs": [
    {
     "data": {
      "text/plain": [
       "350.4883333333334"
      ]
     },
     "execution_count": 66,
     "metadata": {},
     "output_type": "execute_result"
    }
   ],
   "source": [
    "#算术平均值函数\n",
    "mean = np.mean(c)\n",
    "mean"
   ]
  },
  {
   "cell_type": "code",
   "execution_count": 67,
   "metadata": {
    "ExecuteTime": {
     "end_time": "2020-10-08T13:03:39.838937Z",
     "start_time": "2020-10-08T13:03:39.832244Z"
    }
   },
   "outputs": [
    {
     "data": {
      "text/plain": [
       "351.45917241379306"
      ]
     },
     "execution_count": 67,
     "metadata": {},
     "output_type": "execute_result"
    }
   ],
   "source": [
    "#时间加权平均价格TWAP,属于另一种平均价格的指标\n",
    "t = np.arange(len(c))\n",
    "twap = np.average(c, weights=t)\n",
    "twap\n"
   ]
  },
  {
   "cell_type": "code",
   "execution_count": 80,
   "metadata": {
    "ExecuteTime": {
     "end_time": "2020-10-08T13:13:40.683428Z",
     "start_time": "2020-10-08T13:13:40.678738Z"
    }
   },
   "outputs": [
    {
     "data": {
      "text/plain": [
       "(array([321, 357, 344, 348, 356, 324, 344, 330, 352, 357, 325, 326, 340,\n",
       "        321, 337, 338, 358, 325, 321, 334, 330, 324, 345, 356, 337, 350,\n",
       "        337, 355, 353, 351]),\n",
       " array([425, 425, 427, 433, 418, 444, 411, 447, 436, 432, 431, 407, 438,\n",
       "        441, 448, 448, 403, 408, 435, 444, 437, 404, 449, 440, 448, 430,\n",
       "        404, 420, 431, 405]))"
      ]
     },
     "execution_count": 80,
     "metadata": {},
     "output_type": "execute_result"
    }
   ],
   "source": [
    "h = np.random.randint(320,360,30)\n",
    "l = np.random.randint(400,450,30)\n",
    "h,l"
   ]
  },
  {
   "cell_type": "code",
   "execution_count": 81,
   "metadata": {
    "ExecuteTime": {
     "end_time": "2020-10-08T13:13:49.788012Z",
     "start_time": "2020-10-08T13:13:49.783381Z"
    }
   },
   "outputs": [
    {
     "data": {
      "text/plain": [
       "(358, 403)"
      ]
     },
     "execution_count": 81,
     "metadata": {},
     "output_type": "execute_result"
    }
   ],
   "source": [
    "#最大值和最小值\n",
    "#最高价的最大值和最低价的最小值\n",
    "highest = np.max(h)\n",
    "lowest = np.min(l)\n",
    "highest,lowest"
   ]
  },
  {
   "cell_type": "code",
   "execution_count": 83,
   "metadata": {
    "ExecuteTime": {
     "end_time": "2020-10-08T13:15:06.377285Z",
     "start_time": "2020-10-08T13:15:06.372736Z"
    }
   },
   "outputs": [
    {
     "data": {
      "text/plain": [
       "(37, 46)"
      ]
     },
     "execution_count": 83,
     "metadata": {},
     "output_type": "execute_result"
    }
   ],
   "source": [
    "#ptp函数可以计算数组的取值范围,返回数组元素的最大值和最小值之间的差值\n",
    "spread_high_price = np.ptp(h)\n",
    "spread_low_price = np.ptp(l)\n",
    "spread_high_price,spread_low_price"
   ]
  },
  {
   "cell_type": "code",
   "execution_count": 84,
   "metadata": {
    "ExecuteTime": {
     "end_time": "2020-10-08T13:16:16.845856Z",
     "start_time": "2020-10-08T13:16:16.829606Z"
    }
   },
   "outputs": [
    {
     "data": {
      "text/plain": [
       "352.295"
      ]
     },
     "execution_count": 84,
     "metadata": {},
     "output_type": "execute_result"
    }
   ],
   "source": [
    "#简单统计分析\n",
    "median = np.median(c)#计算收盘价中的中位数\n",
    "median"
   ]
  },
  {
   "cell_type": "code",
   "execution_count": 85,
   "metadata": {
    "ExecuteTime": {
     "end_time": "2020-10-08T13:17:02.946868Z",
     "start_time": "2020-10-08T13:17:02.928574Z"
    }
   },
   "outputs": [
    {
     "data": {
      "text/plain": [
       "81.29190055555559"
      ]
     },
     "execution_count": 85,
     "metadata": {},
     "output_type": "execute_result"
    }
   ],
   "source": [
    "variance = np.var(c)#计算方差\n",
    "variance"
   ]
  },
  {
   "cell_type": "code",
   "execution_count": 86,
   "metadata": {
    "ExecuteTime": {
     "end_time": "2020-10-08T13:19:13.942846Z",
     "start_time": "2020-10-08T13:19:13.932131Z"
    }
   },
   "outputs": [
    {
     "data": {
      "text/plain": [
       "array([ 0.00958048,  0.01682777, -0.00205779, -0.00255576,  0.00890985,\n",
       "        0.0155267 ,  0.00943503,  0.00833333, -0.01010721,  0.00651548,\n",
       "        0.00652935,  0.00200457,  0.00897472, -0.01330102, -0.02160201,\n",
       "       -0.03408832,  0.01184253,  0.00075886,  0.01539897,  0.01450483,\n",
       "       -0.01104159,  0.00804443,  0.02112916,  0.00122372, -0.01177778,\n",
       "       -0.00924781, -0.08786563,  0.12143079, -0.01397903])"
      ]
     },
     "execution_count": 86,
     "metadata": {},
     "output_type": "execute_result"
    }
   ],
   "source": [
    "#计算简单收益率,即相邻两个价格的变化率,指的是所有价格取对数之后两两之间的差值\n",
    "returns = np.diff(c)/c[:-1] #diff函数就是执行的是后一个元素减去前一个元素\n",
    "returns"
   ]
  },
  {
   "cell_type": "code",
   "execution_count": 87,
   "metadata": {
    "ExecuteTime": {
     "end_time": "2020-10-08T13:22:51.391557Z",
     "start_time": "2020-10-08T13:22:51.387008Z"
    }
   },
   "outputs": [
    {
     "data": {
      "text/plain": [
       "0.030447566955357278"
      ]
     },
     "execution_count": 87,
     "metadata": {},
     "output_type": "execute_result"
    }
   ],
   "source": [
    "#用std函数计算标准差\n",
    "std_deviation = np.std(returns)\n",
    "std_deviation"
   ]
  },
  {
   "cell_type": "code",
   "execution_count": 88,
   "metadata": {
    "ExecuteTime": {
     "end_time": "2020-10-08T13:25:08.848065Z",
     "start_time": "2020-10-08T13:25:08.843005Z"
    }
   },
   "outputs": [
    {
     "data": {
      "text/plain": [
       "array([ 0.00953488,  0.01668775, -0.00205991, -0.00255903,  0.00887039,\n",
       "        0.01540739,  0.0093908 ,  0.0082988 , -0.01015864,  0.00649435,\n",
       "        0.00650813,  0.00200256,  0.00893468, -0.01339027, -0.02183875,\n",
       "       -0.03468287,  0.01177296,  0.00075857,  0.01528161,  0.01440064,\n",
       "       -0.011103  ,  0.00801225,  0.02090904,  0.00122297, -0.01184769,\n",
       "       -0.00929083, -0.09196797,  0.11460536, -0.01407766])"
      ]
     },
     "execution_count": 88,
     "metadata": {},
     "output_type": "execute_result"
    }
   ],
   "source": [
    "#计算对数收益率\n",
    "logreturns = np.diff(np.log(c))\n",
    "logreturns"
   ]
  },
  {
   "cell_type": "code",
   "execution_count": 90,
   "metadata": {
    "ExecuteTime": {
     "end_time": "2020-10-08T13:27:29.167481Z",
     "start_time": "2020-10-08T13:27:29.152291Z"
    }
   },
   "outputs": [
    {
     "data": {
      "text/plain": [
       "246.1051999253604"
      ]
     },
     "execution_count": 90,
     "metadata": {},
     "output_type": "execute_result"
    }
   ],
   "source": [
    "#波动率\n",
    "annual_volatility = np.std(logreturns)/np.mean(logreturns)\n",
    "annual_volatility = annual_volatility/np.sqrt(1./252.)\n",
    "annual_volatility"
   ]
  }
 ],
 "metadata": {
  "kernelspec": {
   "display_name": "Python 3",
   "language": "python",
   "name": "python3"
  },
  "language_info": {
   "codemirror_mode": {
    "name": "ipython",
    "version": 3
   },
   "file_extension": ".py",
   "mimetype": "text/x-python",
   "name": "python",
   "nbconvert_exporter": "python",
   "pygments_lexer": "ipython3",
   "version": "3.8.3"
  }
 },
 "nbformat": 4,
 "nbformat_minor": 4
}
