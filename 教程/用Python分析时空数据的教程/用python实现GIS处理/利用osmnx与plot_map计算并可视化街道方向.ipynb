{
 "cells": [
  {
   "cell_type": "markdown",
   "metadata": {},
   "source": [
    "# 利用osmnx与plot_map计算并可视化街道方向\n",
    "本文的方向熵是指一个区域内所有街道的方向的混乱程度"
   ]
  },
  {
   "cell_type": "code",
   "execution_count": 1,
   "metadata": {
    "ExecuteTime": {
     "end_time": "2020-09-16T10:45:20.297543Z",
     "start_time": "2020-09-16T10:45:05.674868Z"
    }
   },
   "outputs": [],
   "source": [
    "import osmnx as ox\n",
    "import matplotlib.pyplot as plt\n",
    "import geopandas as gpd\n",
    "import pandas as pd\n",
    "import numpy as np\n",
    "from plot_map import plot_map\n",
    "import math"
   ]
  },
  {
   "cell_type": "markdown",
   "metadata": {},
   "source": [
    "方向熵的计算公式为:\n",
    "$$H = -\\sum_{i=1}^nP(O_i)log_eP(O_i)$$"
   ]
  },
  {
   "cell_type": "markdown",
   "metadata": {},
   "source": [
    "$P(O_i)$指方向在第i个方向街道的比例(这里将街道的方向分为了36类,将正北设置为0度,以10度为间隔创建36个区间,我们就认为它的方向就在这个区间)"
   ]
  },
  {
   "cell_type": "code",
   "execution_count": null,
   "metadata": {
    "ExecuteTime": {
     "start_time": "2020-09-16T10:44:32.707Z"
    }
   },
   "outputs": [],
   "source": [
    "def reverse_bearing(x):\n",
    "    return x + 180 if x < 180 else x - 180 "
   ]
  },
  {
   "cell_type": "code",
   "execution_count": null,
   "metadata": {
    "ExecuteTime": {
     "start_time": "2020-09-16T10:44:32.931Z"
    }
   },
   "outputs": [],
   "source": [
    "def count_and_merge(n, bearings):\n",
    "    # make twice as many bins as desired, then merge them in pairs\n",
    "    # prevents bin-edge effects around common values like 0° and 90°\n",
    "    n = n * 2\n",
    "    bins = np.arange(n + 1) * 360 / n\n",
    "    count, _ = np.histogram(np.array(bearings), bins=bins)\n",
    "    \n",
    "    # move the last bin to the front, so eg 0.01° and 359.99° will be binned together\n",
    "    count = np.roll(count, 1)\n",
    "    return count[::2] + count[1::2]"
   ]
  },
  {
   "cell_type": "code",
   "execution_count": 8,
   "metadata": {
    "ExecuteTime": {
     "end_time": "2020-09-16T09:01:28.537782Z",
     "start_time": "2020-09-16T09:01:28.528459Z"
    }
   },
   "outputs": [],
   "source": [
    "def calculate_entropy(count):\n",
    "    count_p = count/count.sum()\n",
    "    entropy = 0\n",
    "    for i in count_p:\n",
    "        entropy -= i*math.log(i)\n",
    "    return entropy "
   ]
  },
  {
   "cell_type": "code",
   "execution_count": 9,
   "metadata": {
    "ExecuteTime": {
     "end_time": "2020-09-16T09:01:29.567890Z",
     "start_time": "2020-09-16T09:01:29.552173Z"
    }
   },
   "outputs": [],
   "source": [
    "# function to draw a polar histogram for a set of edge bearings\n",
    "def polar_plot(ax, bearings, n=36, title=''):\n",
    "\n",
    "    bins = np.arange(n + 1) * 360 / n\n",
    "    count = count_and_merge(n, bearings)\n",
    "    _, division = np.histogram(bearings, bins=bins)\n",
    "    frequency = count / count.sum()\n",
    "    division = division[0:-1]\n",
    "    width =  2 * np.pi / n\n",
    "\n",
    "    ax.set_theta_zero_location('N')\n",
    "    ax.set_theta_direction('clockwise')\n",
    "\n",
    "    x = division * np.pi / 180\n",
    "    bars = ax.bar(x, height=frequency, width=width, align='center', bottom=0, zorder=2,\n",
    "                  color='#003366', edgecolor='k', linewidth=0.5, alpha=0.7)\n",
    "    \n",
    "    ax.set_ylim(top=frequency.max())\n",
    "    \n",
    "    title_font = {'family':'DejaVu Sans', 'size':24, 'weight':'bold'}\n",
    "    xtick_font = {'family':'DejaVu Sans', 'size':10, 'weight':'bold', 'alpha':1.0, 'zorder':3}\n",
    "    ytick_font = {'family':'DejaVu Sans', 'size': 9, 'weight':'bold', 'alpha':0.2, 'zorder':3}\n",
    "    \n",
    "    ax.set_title(title.upper(), y=1.05, fontdict=title_font)\n",
    "    \n",
    "    ax.set_yticks(np.linspace(0, max(ax.get_ylim()), 5))\n",
    "    yticklabels = ['{:.2f}'.format(y) for y in ax.get_yticks()]\n",
    "    yticklabels[0] = ''\n",
    "    ax.set_yticklabels(labels=yticklabels, fontdict=ytick_font)\n",
    "    \n",
    "    xticklabels = ['N', '', 'E', '', 'S', '', 'W', '']\n",
    "    ax.set_xticklabels(labels=xticklabels, fontdict=xtick_font)\n",
    "    ax.tick_params(axis='x', which='major', pad=-2)"
   ]
  },
  {
   "cell_type": "code",
   "execution_count": 10,
   "metadata": {
    "ExecuteTime": {
     "end_time": "2020-09-16T09:01:31.665962Z",
     "start_time": "2020-09-16T09:01:30.991470Z"
    }
   },
   "outputs": [],
   "source": [
    "sh = gpd.read_file('/home/liu/Documents/pygeo-tutorial/shapefile/shanghai_shp/区县界_area.shp')"
   ]
  },
  {
   "cell_type": "markdown",
   "metadata": {
    "ExecuteTime": {
     "end_time": "2020-09-15T12:37:31.231089Z",
     "start_time": "2020-09-15T12:37:31.096881Z"
    }
   },
   "source": [
    "下面开始下载上海市各个区的路网数据,并计算每个区的路网的方向熵"
   ]
  },
  {
   "cell_type": "code",
   "execution_count": null,
   "metadata": {
    "ExecuteTime": {
     "start_time": "2020-09-16T10:44:23.364Z"
    }
   },
   "outputs": [],
   "source": [
    "### 创造一个空的GeoDataFrame，用来储存我们即将下载的各个区的路网数据\n",
    "sh_road = gpd.GeoDataFrame(columns = ['u', 'v', 'key', 'osmid', 'name', 'highway', 'oneway', 'length',\n",
    "       'geometry', 'bridge', 'ref', 'lanes', 'maxspeed', 'access', 'tunnel',\n",
    "       'junction','district'])\n",
    "\n",
    "### 创造一个空的列表，用来存放各个区内各个街道的方向\n",
    "sh_orientation_count = []\n",
    "\n",
    "### 写一个循环，遍历上海的每个区，依次获取并处理路网数据\n",
    "for i in sh.index:\n",
    "    \n",
    "    ### 利用osmnx，获取每个区的路网数据（可以通行小汽车的路网）\n",
    "    G = ox.graph_from_polygon(sh.loc[i,'geometry'],network_type='drive')\n",
    "    #sh.loc[i,'三岔路口比例'] = ox.stats.basic_stats(G)['streets_per_node_proportion'][3]\n",
    "    #sh.loc[i,'十字路口比例'] = ox.stats.basic_stats(G)['streets_per_node_proportion'][4]\n",
    "    \n",
    "    ### 上一步获取的路网数据格式为networkx中的graph格式，这里我们将它转换成GeoDataFrame\n",
    "    road_gdf = ox.graph_to_gdfs(G)[1]\n",
    "    \n",
    "    ### 并为路网赋上相应的行政区信息（属于哪个区）\n",
    "    road_gdf['district'] = sh.loc[i,'NAME']\n",
    "    ### 将每个区的路网添加至总的路网数据中\n",
    "    sh_road = sh_road.append(road_gdf,ignore_index=True)\n",
    "    \n",
    "    ### 利用osmnx的add_edge_bearings函数为路网的边添加方向属性\n",
    "    Gu = ox.add_edge_bearings(ox.get_undirected(G))\n",
    "    \n",
    "    ### 将边的方向属性都提取出来，存在一个Series中\n",
    "    b = pd.Series([d['bearing'] for u, v, k, d in Gu.edges(keys=True, data=True)])\n",
    "    \n",
    "### 为边添加另一个方向的方向属性（+-180度）（因为路都是直线，如果从a端点到b端点与正北的夹角为30度，那么b端点到a端点与正北的夹角就是210度\n",
    "    b = pd.concat([b, b.map(reverse_bearing)]).reset_index(drop=True).dropna()\n",
    "    \n",
    "    ### 将提取出来的方向属性添加到总的方向数据中\n",
    "    sh_orientation_count.append(b)\n",
    "    \n",
    "    ### 计算每个区的街道的方向熵，并直接储存在上海的GeoDataFrame中\n",
    "    sh.loc[i,'方向熵'] = calculate_entropy(count_and_merge(36,b))\n",
    "    \n",
    "    print('{}处理完毕'.format(sh.loc[i,'NAME']))"
   ]
  },
  {
   "cell_type": "markdown",
   "metadata": {},
   "source": [
    "经过操作我们可以得到:\n",
    "1. 上海的GeoDataFrame，储存了每个区的geometry和方向熵的具体数值\n",
    "2. 上海的路网数据GeoDataFrame，储存了上海每个区的路网数据，有一个district字段专门来标记每条道路属于哪个区\n",
    "3. 上海各个区的道路方向的集合（列表形式），储存了每个区内所有路网的方向\n",
    "\n",
    "首先我们从上海的GeoDataFrame中提取每个区的方向熵，然后根据区的名称的字段，将其与上海路网数据的GeoDataFrame进行连接\n",
    "\n",
    "这样我们可以为路网数据的GeoDataFrame添加一个方向熵的字段，代表每条道路所在区的路网的方向熵"
   ]
  },
  {
   "cell_type": "code",
   "execution_count": null,
   "metadata": {
    "ExecuteTime": {
     "start_time": "2020-09-16T10:44:14.037Z"
    }
   },
   "outputs": [],
   "source": [
    "##提取街道名称与方向熵字段\n",
    "sh_district_entropy = sh.loc[:,['NAME','方向熵']]"
   ]
  },
  {
   "cell_type": "code",
   "execution_count": null,
   "metadata": {
    "ExecuteTime": {
     "start_time": "2020-09-16T10:44:15.613Z"
    }
   },
   "outputs": [],
   "source": [
    "##改一下名字,方便连接\n",
    "sh_district_entropy.columns = ['district','方向熵']"
   ]
  },
  {
   "cell_type": "code",
   "execution_count": null,
   "metadata": {
    "ExecuteTime": {
     "start_time": "2020-09-16T10:44:16.092Z"
    }
   },
   "outputs": [],
   "source": [
    "##根据district字段进行连接\n",
    "sh_road = pd.merge(sh_road,sh_district_entropy,on='district',how = 'outer')"
   ]
  },
  {
   "cell_type": "code",
   "execution_count": null,
   "metadata": {
    "ExecuteTime": {
     "start_time": "2020-09-16T10:44:16.402Z"
    }
   },
   "outputs": [],
   "source": [
    "sh_bounds = [120.79560279980944,30.623112899720564,122.03020320013769, 31.925845100091397]"
   ]
  },
  {
   "cell_type": "code",
   "execution_count": null,
   "metadata": {
    "ExecuteTime": {
     "start_time": "2020-09-16T10:44:16.643Z"
    },
    "scrolled": false
   },
   "outputs": [],
   "source": [
    "###开始绘图,先设置上海的行政区作为底图\n",
    "base = sh.plot(figsize=(10,10),facecolor='none',edgecolor='black',lw=0.6)\n",
    "\n",
    "###然后在底图上绘制路网地图,并以每条道路所在区的方向熵大小为路网赋予颜色(cmap操作)\n",
    "sh_road.plot(ax=base,column='方向熵',lw=0.4,legend=True,legend_kwds={'shrink':0.7,'label':'Entropy'})\n",
    "\n",
    "###标记方向熵大于75%分位数的区的名称\n",
    "for i in sh.index:\n",
    "    if sh.loc[i,'方向熵'] >= sh['方向熵'].quantile(0.75):\n",
    "        plt.text(sh.loc[i,'geometry'].centroid.x,sh.loc[i,'geometry'].centroid.y,sh.loc[i,'NAME'],fontdict={'family':'Arial Unicode MS','size':10},horizontalalignment='center',verticalalignment='center')\n",
    "\n",
    "### 调用plot_map添加osm的底图\n",
    "plot_map(plt,sh_bounds,zoom=14,style=4)\n",
    "\n",
    "### 关闭坐标轴，更好看\n",
    "base.axis('off')\n",
    "\n",
    "### 保存图片\n",
    "plt.savefig('sh_entropy_plot.jpg',dpi=70,bbox_inches='tight')\n",
    "\n",
    "plt.show()"
   ]
  },
  {
   "cell_type": "code",
   "execution_count": null,
   "metadata": {},
   "outputs": [],
   "source": []
  },
  {
   "cell_type": "code",
   "execution_count": null,
   "metadata": {},
   "outputs": [],
   "source": []
  }
 ],
 "metadata": {
  "kernelspec": {
   "display_name": "Python 3",
   "language": "python",
   "name": "python3"
  },
  "language_info": {
   "codemirror_mode": {
    "name": "ipython",
    "version": 3
   },
   "file_extension": ".py",
   "mimetype": "text/x-python",
   "name": "python",
   "nbconvert_exporter": "python",
   "pygments_lexer": "ipython3",
   "version": "3.8.3"
  }
 },
 "nbformat": 4,
 "nbformat_minor": 4
}
