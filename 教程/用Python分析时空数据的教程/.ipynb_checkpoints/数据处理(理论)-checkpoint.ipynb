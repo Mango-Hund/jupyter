{
 "cells": [
  {
   "cell_type": "markdown",
   "metadata": {},
   "source": [
    "# 复杂的数据处理任务应该如何切入\n",
    "遇到任何复杂的问题时,要想办法把问题变成可以批量解决的编程问题\n",
    "## 数据处理任务应该如何分解\n",
    "在遇到数据处理任务的时候,首先应该思考最重要的问题是:  \n",
    ">这个数据处理任务的输入和输出是什么?\n",
    "\n",
    "具体来说,我们有什么样的数据?数据是如何存储的?我们要得到什么的结果?结果的数据是什么形式的?  \n",
    "``\n",
    "输入(数据形式是怎么样存储的)---数据分析任务---->输出(数据形式是怎么存储的)\n",
    "``\n",
    "![png](/home/liu/Documents/jupyter/用Python分析时空数据的教程/数据处理流程.png)"
   ]
  },
  {
   "cell_type": "code",
   "execution_count": null,
   "metadata": {},
   "outputs": [],
   "source": []
  }
 ],
 "metadata": {
  "kernelspec": {
   "display_name": "Python 3",
   "language": "python",
   "name": "python3"
  },
  "language_info": {
   "codemirror_mode": {
    "name": "ipython",
    "version": 3
   },
   "file_extension": ".py",
   "mimetype": "text/x-python",
   "name": "python",
   "nbconvert_exporter": "python",
   "pygments_lexer": "ipython3",
   "version": "3.7.7"
  }
 },
 "nbformat": 4,
 "nbformat_minor": 4
}
