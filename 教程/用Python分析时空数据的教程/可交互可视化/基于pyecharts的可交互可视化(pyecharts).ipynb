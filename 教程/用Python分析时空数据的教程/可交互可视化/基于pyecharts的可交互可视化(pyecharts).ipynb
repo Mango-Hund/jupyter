{
 "cells": [
  {
   "cell_type": "markdown",
   "metadata": {},
   "source": [
    "# 基于pyecharts的可交互可视化(pyecharts)\n",
    "\n",
    "1. matplotlib：纯python出图，可批量出图，缺点是出的图片为静态图片无法交互\n",
    "2. folium：主要功能是绘制地图，javascript出图可交互，坐标系为wgs84，数据不需要转坐标\n",
    "3. echarts：可绘制各种图表，也能绘制地图，javascript出图可交互，但绘制地图时底图一般采用百度地图，需要转坐标系"
   ]
  },
  {
   "cell_type": "markdown",
   "metadata": {},
   "source": [
    "## 数据获取\n",
    "很多网站都提供了疫情分布情况，数据都是公开的直接抓就行。这里以腾讯新闻的疫情发布链接为例，观察网络链接可以找到数据获取的访问请求"
   ]
  },
  {
   "cell_type": "code",
   "execution_count": 3,
   "metadata": {
    "ExecuteTime": {
     "end_time": "2020-09-15T03:47:48.129152Z",
     "start_time": "2020-09-15T03:47:47.142931Z"
    }
   },
   "outputs": [],
   "source": [
    "import urllib #urllib的request模块可以非常方便地抓取URL内容，也就是发送一个GET请求到指定的页面，然后返回HTTP的响应\n",
    "import json\n",
    "url = 'https://view.inews.qq.com/g2/getOnsInfo?name=disease_h5'\n",
    "request = urllib.request.Request(url)\n",
    "response = urllib.request.urlopen(request)\n",
    "datajson=json.loads(response.read().decode('utf8'))\n",
    "datajson=json.loads(datajson['data'])"
   ]
  },
  {
   "cell_type": "code",
   "execution_count": 4,
   "metadata": {
    "ExecuteTime": {
     "end_time": "2020-09-15T03:47:50.005164Z",
     "start_time": "2020-09-15T03:47:48.130819Z"
    }
   },
   "outputs": [
    {
     "data": {
      "text/html": [
       "<div>\n",
       "<style scoped>\n",
       "    .dataframe tbody tr th:only-of-type {\n",
       "        vertical-align: middle;\n",
       "    }\n",
       "\n",
       "    .dataframe tbody tr th {\n",
       "        vertical-align: top;\n",
       "    }\n",
       "\n",
       "    .dataframe thead th {\n",
       "        text-align: right;\n",
       "    }\n",
       "</style>\n",
       "<table border=\"1\" class=\"dataframe\">\n",
       "  <thead>\n",
       "    <tr style=\"text-align: right;\">\n",
       "      <th></th>\n",
       "      <th>name</th>\n",
       "      <th>today</th>\n",
       "      <th>total</th>\n",
       "      <th>children</th>\n",
       "    </tr>\n",
       "  </thead>\n",
       "  <tbody>\n",
       "    <tr>\n",
       "      <th>0</th>\n",
       "      <td>香港</td>\n",
       "      <td>{'confirm': 14, 'confirmCuts': 0, 'isUpdated':...</td>\n",
       "      <td>{'nowConfirm': 235, 'confirm': 4971, 'suspect'...</td>\n",
       "      <td>[{'name': '地区待确认', 'today': {'confirm': 14, 'c...</td>\n",
       "    </tr>\n",
       "    <tr>\n",
       "      <th>1</th>\n",
       "      <td>上海</td>\n",
       "      <td>{'confirm': 1, 'confirmCuts': 0, 'isUpdated': ...</td>\n",
       "      <td>{'nowConfirm': 41, 'confirm': 948, 'suspect': ...</td>\n",
       "      <td>[{'name': '境外输入', 'today': {'confirm': 1, 'con...</td>\n",
       "    </tr>\n",
       "    <tr>\n",
       "      <th>2</th>\n",
       "      <td>广东</td>\n",
       "      <td>{'confirm': 4, 'confirmCuts': 0, 'isUpdated': ...</td>\n",
       "      <td>{'nowConfirm': 21, 'confirm': 1782, 'suspect':...</td>\n",
       "      <td>[{'name': '境外输入', 'today': {'confirm': 4, 'con...</td>\n",
       "    </tr>\n",
       "    <tr>\n",
       "      <th>3</th>\n",
       "      <td>台湾</td>\n",
       "      <td>{'confirm': 1, 'confirmCuts': 0, 'isUpdated': ...</td>\n",
       "      <td>{'nowConfirm': 16, 'confirm': 499, 'suspect': ...</td>\n",
       "      <td>[{'name': '地区待确认', 'today': {'confirm': 1, 'co...</td>\n",
       "    </tr>\n",
       "    <tr>\n",
       "      <th>4</th>\n",
       "      <td>四川</td>\n",
       "      <td>{'confirm': 1, 'confirmCuts': 0, 'isUpdated': ...</td>\n",
       "      <td>{'nowConfirm': 15, 'confirm': 666, 'suspect': ...</td>\n",
       "      <td>[{'name': '境外输入', 'today': {'confirm': 1, 'con...</td>\n",
       "    </tr>\n",
       "  </tbody>\n",
       "</table>\n",
       "</div>"
      ],
      "text/plain": [
       "  name                                              today  \\\n",
       "0   香港  {'confirm': 14, 'confirmCuts': 0, 'isUpdated':...   \n",
       "1   上海  {'confirm': 1, 'confirmCuts': 0, 'isUpdated': ...   \n",
       "2   广东  {'confirm': 4, 'confirmCuts': 0, 'isUpdated': ...   \n",
       "3   台湾  {'confirm': 1, 'confirmCuts': 0, 'isUpdated': ...   \n",
       "4   四川  {'confirm': 1, 'confirmCuts': 0, 'isUpdated': ...   \n",
       "\n",
       "                                               total  \\\n",
       "0  {'nowConfirm': 235, 'confirm': 4971, 'suspect'...   \n",
       "1  {'nowConfirm': 41, 'confirm': 948, 'suspect': ...   \n",
       "2  {'nowConfirm': 21, 'confirm': 1782, 'suspect':...   \n",
       "3  {'nowConfirm': 16, 'confirm': 499, 'suspect': ...   \n",
       "4  {'nowConfirm': 15, 'confirm': 666, 'suspect': ...   \n",
       "\n",
       "                                            children  \n",
       "0  [{'name': '地区待确认', 'today': {'confirm': 14, 'c...  \n",
       "1  [{'name': '境外输入', 'today': {'confirm': 1, 'con...  \n",
       "2  [{'name': '境外输入', 'today': {'confirm': 4, 'con...  \n",
       "3  [{'name': '地区待确认', 'today': {'confirm': 1, 'co...  \n",
       "4  [{'name': '境外输入', 'today': {'confirm': 1, 'con...  "
      ]
     },
     "execution_count": 4,
     "metadata": {},
     "output_type": "execute_result"
    }
   ],
   "source": [
    "#提取各省份的数据\n",
    "import pandas as pd\n",
    "provincedata = pd.DataFrame(datajson['areaTree'][0]['children'])\n",
    "provincedata.head(5)"
   ]
  },
  {
   "cell_type": "code",
   "execution_count": 5,
   "metadata": {
    "ExecuteTime": {
     "end_time": "2020-09-15T03:47:50.040435Z",
     "start_time": "2020-09-15T03:47:50.010524Z"
    }
   },
   "outputs": [
    {
     "data": {
      "text/html": [
       "<div>\n",
       "<style scoped>\n",
       "    .dataframe tbody tr th:only-of-type {\n",
       "        vertical-align: middle;\n",
       "    }\n",
       "\n",
       "    .dataframe tbody tr th {\n",
       "        vertical-align: top;\n",
       "    }\n",
       "\n",
       "    .dataframe thead th {\n",
       "        text-align: right;\n",
       "    }\n",
       "</style>\n",
       "<table border=\"1\" class=\"dataframe\">\n",
       "  <thead>\n",
       "    <tr style=\"text-align: right;\">\n",
       "      <th></th>\n",
       "      <th>nowConfirm</th>\n",
       "      <th>confirm</th>\n",
       "      <th>suspect</th>\n",
       "      <th>dead</th>\n",
       "      <th>deadRate</th>\n",
       "      <th>showRate</th>\n",
       "      <th>heal</th>\n",
       "      <th>healRate</th>\n",
       "      <th>showHeal</th>\n",
       "      <th>name</th>\n",
       "    </tr>\n",
       "  </thead>\n",
       "  <tbody>\n",
       "    <tr>\n",
       "      <th>0</th>\n",
       "      <td>235</td>\n",
       "      <td>4971</td>\n",
       "      <td>0</td>\n",
       "      <td>101</td>\n",
       "      <td>2.03</td>\n",
       "      <td>False</td>\n",
       "      <td>4635</td>\n",
       "      <td>93.24</td>\n",
       "      <td>True</td>\n",
       "      <td>香港</td>\n",
       "    </tr>\n",
       "    <tr>\n",
       "      <th>1</th>\n",
       "      <td>41</td>\n",
       "      <td>948</td>\n",
       "      <td>0</td>\n",
       "      <td>7</td>\n",
       "      <td>0.74</td>\n",
       "      <td>False</td>\n",
       "      <td>900</td>\n",
       "      <td>94.94</td>\n",
       "      <td>True</td>\n",
       "      <td>上海</td>\n",
       "    </tr>\n",
       "    <tr>\n",
       "      <th>2</th>\n",
       "      <td>21</td>\n",
       "      <td>1782</td>\n",
       "      <td>0</td>\n",
       "      <td>8</td>\n",
       "      <td>0.45</td>\n",
       "      <td>False</td>\n",
       "      <td>1753</td>\n",
       "      <td>98.37</td>\n",
       "      <td>True</td>\n",
       "      <td>广东</td>\n",
       "    </tr>\n",
       "    <tr>\n",
       "      <th>3</th>\n",
       "      <td>16</td>\n",
       "      <td>499</td>\n",
       "      <td>0</td>\n",
       "      <td>7</td>\n",
       "      <td>1.40</td>\n",
       "      <td>False</td>\n",
       "      <td>476</td>\n",
       "      <td>95.39</td>\n",
       "      <td>True</td>\n",
       "      <td>台湾</td>\n",
       "    </tr>\n",
       "    <tr>\n",
       "      <th>4</th>\n",
       "      <td>15</td>\n",
       "      <td>666</td>\n",
       "      <td>0</td>\n",
       "      <td>3</td>\n",
       "      <td>0.45</td>\n",
       "      <td>False</td>\n",
       "      <td>648</td>\n",
       "      <td>97.30</td>\n",
       "      <td>True</td>\n",
       "      <td>四川</td>\n",
       "    </tr>\n",
       "  </tbody>\n",
       "</table>\n",
       "</div>"
      ],
      "text/plain": [
       "   nowConfirm  confirm  suspect  dead deadRate  showRate  heal healRate  \\\n",
       "0         235     4971        0   101     2.03     False  4635    93.24   \n",
       "1          41      948        0     7     0.74     False   900    94.94   \n",
       "2          21     1782        0     8     0.45     False  1753    98.37   \n",
       "3          16      499        0     7     1.40     False   476    95.39   \n",
       "4          15      666        0     3     0.45     False   648    97.30   \n",
       "\n",
       "   showHeal name  \n",
       "0      True   香港  \n",
       "1      True   上海  \n",
       "2      True   广东  \n",
       "3      True   台湾  \n",
       "4      True   四川  "
      ]
     },
     "execution_count": 5,
     "metadata": {},
     "output_type": "execute_result"
    }
   ],
   "source": [
    "#整理一下数据，把total里面的数据展开\n",
    "data1 = pd.DataFrame(list(provincedata['total']))\n",
    "data1['name'] = provincedata['name']\n",
    "data1.head(5)"
   ]
  },
  {
   "cell_type": "markdown",
   "metadata": {
    "ExecuteTime": {
     "end_time": "2020-09-15T03:45:53.344754Z",
     "start_time": "2020-09-15T03:45:53.334222Z"
    }
   },
   "source": [
    "首先把数据整理成echarts认识的格式,就是如下:"
   ]
  },
  {
   "cell_type": "code",
   "execution_count": 6,
   "metadata": {
    "ExecuteTime": {
     "end_time": "2020-09-15T03:56:39.235007Z",
     "start_time": "2020-09-15T03:56:39.194823Z"
    }
   },
   "outputs": [
    {
     "data": {
      "text/plain": [
       "array([['香港', 4971],\n",
       "       ['上海', 948],\n",
       "       ['广东', 1782],\n",
       "       ['台湾', 499],\n",
       "       ['四川', 666],\n",
       "       ['福建', 390],\n",
       "       ['山东', 831],\n",
       "       ['陕西', 381],\n",
       "       ['浙江', 1281],\n",
       "       ['云南', 204],\n",
       "       ['天津', 234],\n",
       "       ['河北', 365],\n",
       "       ['广西', 258],\n",
       "       ['江苏', 665],\n",
       "       ['重庆', 584],\n",
       "       ['内蒙古', 261],\n",
       "       ['河南', 1277],\n",
       "       ['辽宁', 264],\n",
       "       ['山西', 203],\n",
       "       ['湖北', 68139],\n",
       "       ['安徽', 991],\n",
       "       ['澳门', 46],\n",
       "       ['海南', 171],\n",
       "       ['江西', 935],\n",
       "       ['北京', 935],\n",
       "       ['宁夏', 75],\n",
       "       ['新疆', 902],\n",
       "       ['甘肃', 170],\n",
       "       ['青海', 18],\n",
       "       ['黑龙江', 948],\n",
       "       ['贵州', 147],\n",
       "       ['湖南', 1019],\n",
       "       ['西藏', 1],\n",
       "       ['吉林', 157]], dtype=object)"
      ]
     },
     "execution_count": 6,
     "metadata": {},
     "output_type": "execute_result"
    }
   ],
   "source": [
    "data1[['name','confirm']].values"
   ]
  },
  {
   "cell_type": "code",
   "execution_count": 10,
   "metadata": {
    "ExecuteTime": {
     "end_time": "2020-09-15T04:03:59.585209Z",
     "start_time": "2020-09-15T04:03:59.547051Z"
    }
   },
   "outputs": [
    {
     "name": "stderr",
     "output_type": "stream",
     "text": [
      "/home/liu/miniconda3/lib/python3.7/site-packages/pyecharts/charts/chart.py:14: PendingDeprecationWarning: pyecharts 所有图表类型将在 v1.9.0 版本开始强制使用 ChartItem 进行数据项配置 :)\n",
      "  super().__init__(init_opts=init_opts)\n"
     ]
    },
    {
     "data": {
      "text/plain": [
       "'/home/liu/Documents/jupyter/用Python分析时空数据的教程/可交互可视化/疫情地图.html'"
      ]
     },
     "execution_count": 10,
     "metadata": {},
     "output_type": "execute_result"
    }
   ],
   "source": [
    "from pyecharts import options as opts\n",
    "from pyecharts.charts import Map\n",
    "#创建echarts对象c\n",
    "c = (\n",
    "    Map()#告诉echarts这个是Map形式的图表\n",
    "    .add(\"确诊\",data1[['name','confirm']].values,\"china\")#加一个数据，这个数据名叫”确诊“，数据的地图是echarts自带的china\n",
    "    .set_global_opts(\n",
    "        #对图表添加设置\n",
    "        title_opts = opts.TitleOpts(title = '疫情地图')\n",
    "    )\n",
    ")\n",
    "c.render('疫情地图.html')"
   ]
  },
  {
   "cell_type": "code",
   "execution_count": 16,
   "metadata": {
    "ExecuteTime": {
     "end_time": "2020-09-15T04:16:42.361637Z",
     "start_time": "2020-09-15T04:16:42.339708Z"
    }
   },
   "outputs": [
    {
     "name": "stderr",
     "output_type": "stream",
     "text": [
      "/home/liu/miniconda3/lib/python3.7/site-packages/pyecharts/charts/chart.py:14: PendingDeprecationWarning: pyecharts 所有图表类型将在 v1.9.0 版本开始强制使用 ChartItem 进行数据项配置 :)\n",
      "  super().__init__(init_opts=init_opts)\n"
     ]
    },
    {
     "data": {
      "text/plain": [
       "'/home/liu/Documents/jupyter/用Python分析时空数据的教程/可交互可视化/疫情地图.html'"
      ]
     },
     "execution_count": 16,
     "metadata": {},
     "output_type": "execute_result"
    }
   ],
   "source": [
    "from pyecharts import options as opts\n",
    "from pyecharts.charts import Map\n",
    "c = (\n",
    "    Map()\n",
    "    .add(\n",
    "        \"确诊\",\n",
    "        data1[['name','confirm']].values,\n",
    "        \"china\",\n",
    "        is_roam = False, #不可鼠标缩放和平移漫游\n",
    "        zoom = 1.2, #当前视角的缩放比例\n",
    "        is_map_symbol_show = False, #是否显示标记图形\n",
    "        label_opts = opts.LabelOpts(position = 'inside')#标签尽量放在图形区域内\n",
    "    )\n",
    "    .set_global_opts(\n",
    "        title_opts=opts.TitleOpts(title='疫情地图'),\n",
    "        visualmap_opts=opts.VisualMapOpts(is_piecewise=True,#设定分段颜色显示\n",
    "                                          pieces=[{'min': 10000,'label':'10000人以上'}, #设定分段的值\n",
    "                                                  {'min': 1000, 'max': 9999,'label':'1000-9999人'},\n",
    "                                                  {'min': 500, 'max': 999,'label':'500-999人'},\n",
    "                                                  {'min': 100, 'max': 499,'label':'100-499人'},\n",
    "                                                  {'min': 10, 'max': 99,'label':'10-99人'},\n",
    "                                                  {'min': 1, 'max': 9,'label':'1-9人'}],\n",
    "                                           range_color=[\"#b4e0f3\",\"#70b4eb\",\"#1482e5\",\"#1c3fbf\",\"#070093\" ] #调整显示颜色\n",
    "                                         ),\n",
    "        \n",
    "    )\n",
    ")\n",
    "c.render('疫情地图.html')"
   ]
  },
  {
   "cell_type": "markdown",
   "metadata": {},
   "source": [
    "## 单个省份数据可视化"
   ]
  },
  {
   "cell_type": "code",
   "execution_count": 18,
   "metadata": {
    "ExecuteTime": {
     "end_time": "2020-09-15T04:23:36.232227Z",
     "start_time": "2020-09-15T04:23:36.199675Z"
    }
   },
   "outputs": [
    {
     "data": {
      "text/html": [
       "<div>\n",
       "<style scoped>\n",
       "    .dataframe tbody tr th:only-of-type {\n",
       "        vertical-align: middle;\n",
       "    }\n",
       "\n",
       "    .dataframe tbody tr th {\n",
       "        vertical-align: top;\n",
       "    }\n",
       "\n",
       "    .dataframe thead th {\n",
       "        text-align: right;\n",
       "    }\n",
       "</style>\n",
       "<table border=\"1\" class=\"dataframe\">\n",
       "  <thead>\n",
       "    <tr style=\"text-align: right;\">\n",
       "      <th></th>\n",
       "      <th>nowConfirm</th>\n",
       "      <th>confirm</th>\n",
       "      <th>suspect</th>\n",
       "      <th>dead</th>\n",
       "      <th>deadRate</th>\n",
       "      <th>showRate</th>\n",
       "      <th>heal</th>\n",
       "      <th>healRate</th>\n",
       "      <th>showHeal</th>\n",
       "      <th>name</th>\n",
       "    </tr>\n",
       "  </thead>\n",
       "  <tbody>\n",
       "    <tr>\n",
       "      <th>0</th>\n",
       "      <td>11</td>\n",
       "      <td>68</td>\n",
       "      <td>0</td>\n",
       "      <td>0</td>\n",
       "      <td>0.00</td>\n",
       "      <td>False</td>\n",
       "      <td>57</td>\n",
       "      <td>83.82</td>\n",
       "      <td>True</td>\n",
       "      <td>境外输入市</td>\n",
       "    </tr>\n",
       "    <tr>\n",
       "      <th>1</th>\n",
       "      <td>0</td>\n",
       "      <td>44</td>\n",
       "      <td>0</td>\n",
       "      <td>0</td>\n",
       "      <td>0.00</td>\n",
       "      <td>False</td>\n",
       "      <td>44</td>\n",
       "      <td>100.00</td>\n",
       "      <td>True</td>\n",
       "      <td>潍坊市</td>\n",
       "    </tr>\n",
       "    <tr>\n",
       "      <th>2</th>\n",
       "      <td>0</td>\n",
       "      <td>260</td>\n",
       "      <td>0</td>\n",
       "      <td>0</td>\n",
       "      <td>0.00</td>\n",
       "      <td>False</td>\n",
       "      <td>260</td>\n",
       "      <td>100.00</td>\n",
       "      <td>True</td>\n",
       "      <td>济宁市</td>\n",
       "    </tr>\n",
       "    <tr>\n",
       "      <th>3</th>\n",
       "      <td>0</td>\n",
       "      <td>47</td>\n",
       "      <td>0</td>\n",
       "      <td>0</td>\n",
       "      <td>0.00</td>\n",
       "      <td>False</td>\n",
       "      <td>47</td>\n",
       "      <td>100.00</td>\n",
       "      <td>True</td>\n",
       "      <td>济南市</td>\n",
       "    </tr>\n",
       "    <tr>\n",
       "      <th>4</th>\n",
       "      <td>0</td>\n",
       "      <td>49</td>\n",
       "      <td>0</td>\n",
       "      <td>0</td>\n",
       "      <td>0.00</td>\n",
       "      <td>False</td>\n",
       "      <td>49</td>\n",
       "      <td>100.00</td>\n",
       "      <td>True</td>\n",
       "      <td>临沂市</td>\n",
       "    </tr>\n",
       "  </tbody>\n",
       "</table>\n",
       "</div>"
      ],
      "text/plain": [
       "   nowConfirm  confirm  suspect  dead deadRate  showRate  heal healRate  \\\n",
       "0          11       68        0     0     0.00     False    57    83.82   \n",
       "1           0       44        0     0     0.00     False    44   100.00   \n",
       "2           0      260        0     0     0.00     False   260   100.00   \n",
       "3           0       47        0     0     0.00     False    47   100.00   \n",
       "4           0       49        0     0     0.00     False    49   100.00   \n",
       "\n",
       "   showHeal   name  \n",
       "0      True  境外输入市  \n",
       "1      True    潍坊市  \n",
       "2      True    济宁市  \n",
       "3      True    济南市  \n",
       "4      True    临沂市  "
      ]
     },
     "execution_count": 18,
     "metadata": {},
     "output_type": "execute_result"
    }
   ],
   "source": [
    "import pandas as pd\n",
    "#提取省份的数据\n",
    "province = '山东'\n",
    "shandongdata = pd.DataFrame(provincedata[provincedata['name'] == province]['children'].iloc[0])\n",
    "#整理数据,将total里面的数据展开\n",
    "data2 = pd.DataFrame(list(shandongdata['total']))\n",
    "data2['name'] = shandongdata['name'] + '市'\n",
    "data2.head(5)"
   ]
  },
  {
   "cell_type": "code",
   "execution_count": 24,
   "metadata": {
    "ExecuteTime": {
     "end_time": "2020-09-15T05:19:45.417763Z",
     "start_time": "2020-09-15T05:19:45.402648Z"
    }
   },
   "outputs": [
    {
     "name": "stderr",
     "output_type": "stream",
     "text": [
      "/home/liu/miniconda3/lib/python3.7/site-packages/pyecharts/charts/chart.py:14: PendingDeprecationWarning: pyecharts 所有图表类型将在 v1.9.0 版本开始强制使用 ChartItem 进行数据项配置 :)\n",
      "  super().__init__(init_opts=init_opts)\n"
     ]
    },
    {
     "data": {
      "text/plain": [
       "'/home/liu/Documents/jupyter/用Python分析时空数据的教程/可交互可视化/山东疫情地图.html'"
      ]
     },
     "execution_count": 24,
     "metadata": {},
     "output_type": "execute_result"
    }
   ],
   "source": [
    "from pyecharts import options as opts\n",
    "from pyecharts.charts import Map\n",
    "c = (\n",
    "    Map()\n",
    "    .add(\"确诊\", \n",
    "         data2[['name','confirm']].values, \n",
    "         province,\n",
    "         is_roam = False,#不可鼠标缩放和平移漫游\n",
    "         zoom = 1.2,#当前视角的缩放比例\n",
    "         is_map_symbol_show = False, # 是否显示标记图形\n",
    "         label_opts = opts.LabelOpts(position = 'inside'),#标签尽量放在图形区域内\n",
    "        )\n",
    "    .set_global_opts(\n",
    "        title_opts=opts.TitleOpts(title=province+'疫情地图'),\n",
    "        visualmap_opts=opts.VisualMapOpts(is_piecewise=True,#设定分段颜色显示\n",
    "                                          pieces=[{'min': 200, 'label':'200人以上'},#设定分段的值\n",
    "                                                  {'min': 100, 'max': 199,'label':'100-199人'},\n",
    "                                                  {'min': 50, 'max': 99,'label':'50-99人'},\n",
    "                                                  {'min': 10, 'max': 49,'label':'10-49人'},\n",
    "                                                  {'min': 1, 'max': 9,'label':'1-9人'}],\n",
    "                                           range_color=[\"#b4e0f3\",\"#70b4eb\",\"#1482e5\",\"#1c3fbf\",\"#070093\" ] #调整显示颜色\n",
    "                                         ),\n",
    "    )\n",
    ")\n",
    "c.render(province+'疫情地图.html')"
   ]
  },
  {
   "cell_type": "code",
   "execution_count": 1,
   "metadata": {
    "ExecuteTime": {
     "end_time": "2020-09-15T06:38:07.776404Z",
     "start_time": "2020-09-15T06:38:07.714464Z"
    }
   },
   "outputs": [
    {
     "ename": "ModuleNotFoundError",
     "evalue": "No module named 'pandas'",
     "output_type": "error",
     "traceback": [
      "\u001b[0;31m---------------------------------------------------------------------------\u001b[0m",
      "\u001b[0;31mModuleNotFoundError\u001b[0m                       Traceback (most recent call last)",
      "\u001b[0;32m<ipython-input-1-7dd3504c366f>\u001b[0m in \u001b[0;36m<module>\u001b[0;34m\u001b[0m\n\u001b[0;32m----> 1\u001b[0;31m \u001b[0;32mimport\u001b[0m \u001b[0mpandas\u001b[0m \u001b[0;32mas\u001b[0m \u001b[0mpd\u001b[0m\u001b[0;34m\u001b[0m\u001b[0;34m\u001b[0m\u001b[0m\n\u001b[0m",
      "\u001b[0;31mModuleNotFoundError\u001b[0m: No module named 'pandas'"
     ]
    }
   ],
   "source": [
    "import pandas as pd"
   ]
  },
  {
   "cell_type": "code",
   "execution_count": 2,
   "metadata": {
    "ExecuteTime": {
     "end_time": "2020-09-15T06:44:36.677421Z",
     "start_time": "2020-09-15T06:44:36.018269Z"
    }
   },
   "outputs": [
    {
     "name": "stdout",
     "output_type": "stream",
     "text": [
      "\u001b[31mERROR: Exception:\n",
      "Traceback (most recent call last):\n",
      "  File \"/home/liu/miniconda3/lib/python3.7/site-packages/pip/_vendor/pkg_resources/__init__.py\", line 3021, in _dep_map\n",
      "    return self.__dep_map\n",
      "  File \"/home/liu/miniconda3/lib/python3.7/site-packages/pip/_vendor/pkg_resources/__init__.py\", line 2815, in __getattr__\n",
      "    raise AttributeError(attr)\n",
      "AttributeError: _DistInfoDistribution__dep_map\n",
      "\n",
      "During handling of the above exception, another exception occurred:\n",
      "\n",
      "Traceback (most recent call last):\n",
      "  File \"/home/liu/miniconda3/lib/python3.7/site-packages/pip/_vendor/pkg_resources/__init__.py\", line 3012, in _parsed_pkg_info\n",
      "    return self._pkg_info\n",
      "  File \"/home/liu/miniconda3/lib/python3.7/site-packages/pip/_vendor/pkg_resources/__init__.py\", line 2815, in __getattr__\n",
      "    raise AttributeError(attr)\n",
      "AttributeError: _pkg_info\n",
      "\n",
      "During handling of the above exception, another exception occurred:\n",
      "\n",
      "Traceback (most recent call last):\n",
      "  File \"/home/liu/miniconda3/lib/python3.7/site-packages/pip/_internal/cli/base_command.py\", line 186, in _main\n",
      "    status = self.run(options, args)\n",
      "  File \"/home/liu/miniconda3/lib/python3.7/site-packages/pip/_internal/commands/show.py\", line 50, in run\n",
      "    results, list_files=options.files, verbose=options.verbose):\n",
      "  File \"/home/liu/miniconda3/lib/python3.7/site-packages/pip/_internal/commands/show.py\", line 148, in print_results\n",
      "    for i, dist in enumerate(distributions):\n",
      "  File \"/home/liu/miniconda3/lib/python3.7/site-packages/pip/_internal/commands/show.py\", line 88, in search_packages_info\n",
      "    'required_by': get_requiring_packages(dist.project_name)\n",
      "  File \"/home/liu/miniconda3/lib/python3.7/site-packages/pip/_internal/commands/show.py\", line 76, in get_requiring_packages\n",
      "    pkg.project_name for pkg in pkg_resources.working_set\n",
      "  File \"/home/liu/miniconda3/lib/python3.7/site-packages/pip/_internal/commands/show.py\", line 79, in <listcomp>\n",
      "    pkg.requires()]\n",
      "  File \"/home/liu/miniconda3/lib/python3.7/site-packages/pip/_vendor/pkg_resources/__init__.py\", line 2736, in requires\n",
      "    dm = self._dep_map\n",
      "  File \"/home/liu/miniconda3/lib/python3.7/site-packages/pip/_vendor/pkg_resources/__init__.py\", line 3023, in _dep_map\n",
      "    self.__dep_map = self._compute_dependencies()\n",
      "  File \"/home/liu/miniconda3/lib/python3.7/site-packages/pip/_vendor/pkg_resources/__init__.py\", line 3032, in _compute_dependencies\n",
      "    for req in self._parsed_pkg_info.get_all('Requires-Dist') or []:\n",
      "  File \"/home/liu/miniconda3/lib/python3.7/site-packages/pip/_vendor/pkg_resources/__init__.py\", line 3014, in _parsed_pkg_info\n",
      "    metadata = self.get_metadata(self.PKG_INFO)\n",
      "  File \"/home/liu/miniconda3/lib/python3.7/site-packages/pip/_vendor/pkg_resources/__init__.py\", line 1420, in get_metadata\n",
      "    value = self._get(path)\n",
      "  File \"/home/liu/miniconda3/lib/python3.7/site-packages/pip/_vendor/pkg_resources/__init__.py\", line 1616, in _get\n",
      "    with open(path, 'rb') as stream:\n",
      "FileNotFoundError: [Errno 2] 没有那个文件或目录: '/home/liu/miniconda3/lib/python3.7/site-packages/pytz-2020.1.dist-info/METADATA'\u001b[0m\n",
      "Note: you may need to restart the kernel to use updated packages.\n"
     ]
    }
   ],
   "source": [
    "pip show --verbose pandas"
   ]
  },
  {
   "cell_type": "code",
   "execution_count": 3,
   "metadata": {
    "ExecuteTime": {
     "end_time": "2020-09-15T06:53:07.468993Z",
     "start_time": "2020-09-15T06:46:33.932064Z"
    }
   },
   "outputs": [
    {
     "name": "stdout",
     "output_type": "stream",
     "text": [
      "Collecting pandas\n",
      "  Downloading pandas-1.1.2-cp37-cp37m-manylinux1_x86_64.whl (10.5 MB)\n",
      "\u001b[K     |████████████████████████████████| 10.5 MB 33 kB/s eta 0:00:01     |██████████████████████████▌     | 8.7 MB 24 kB/s eta 0:01:14\n",
      "\u001b[?25hRequirement already satisfied, skipping upgrade: numpy>=1.15.4 in /home/liu/miniconda3/lib/python3.7/site-packages (from pandas) (1.19.1)\n",
      "Requirement already satisfied, skipping upgrade: python-dateutil>=2.7.3 in /home/liu/miniconda3/lib/python3.7/site-packages (from pandas) (2.8.1)\n",
      "Requirement already satisfied, skipping upgrade: pytz>=2017.2 in /home/liu/miniconda3/lib/python3.7/site-packages (from pandas) (2020.1)\n",
      "\u001b[33mWARNING: No metadata found in /home/liu/miniconda3/lib/python3.7/site-packages\u001b[0m\n",
      "\u001b[31mERROR: Could not install packages due to an EnvironmentError: [Errno 2] 没有那个文件或目录: '/home/liu/miniconda3/lib/python3.7/site-packages/pytz-2020.1.dist-info/METADATA'\n",
      "\u001b[0m\n",
      "Note: you may need to restart the kernel to use updated packages.\n"
     ]
    }
   ],
   "source": [
    "pip install -U pandas"
   ]
  },
  {
   "cell_type": "code",
   "execution_count": null,
   "metadata": {},
   "outputs": [],
   "source": []
  }
 ],
 "metadata": {
  "kernelspec": {
   "display_name": "Python 3",
   "language": "python",
   "name": "python3"
  },
  "language_info": {
   "codemirror_mode": {
    "name": "ipython",
    "version": 3
   },
   "file_extension": ".py",
   "mimetype": "text/x-python",
   "name": "python",
   "nbconvert_exporter": "python",
   "pygments_lexer": "ipython3",
   "version": "3.8.3"
  }
 },
 "nbformat": 4,
 "nbformat_minor": 4
}
